{
 "cells": [
  {
   "cell_type": "code",
   "execution_count": 4,
   "id": "72068c62",
   "metadata": {},
   "outputs": [],
   "source": [
    "from IngredientExtractor import IngredientExtractor"
   ]
  },
  {
   "cell_type": "code",
   "execution_count": null,
   "id": "17a47201",
   "metadata": {},
   "outputs": [],
   "source": [
    "extractor = IngredientExtractor(\"model_1dcnn.h5\")"
   ]
  },
  {
   "cell_type": "code",
   "execution_count": null,
   "id": "1f462efc",
   "metadata": {},
   "outputs": [],
   "source": [
    "extractor.create_result_from_object({\n",
    "  \"recipe1\": 'In a large bowl, combine flour, baking powder, baking soda, salt, cinnamon, nutmeg, brown sugar, and  oats. Add apple, nuts, raisins, eggs, milk, and oil.  Mix until dry ingredients are moistened.**Bake for 55 to 60 minutes, or until done.  Cool on wire rack.',\n",
    "  \"recipe2\": \"Heat the oil in a large saucepan over medium-low heat. Slowly cook and stir the onion until tender. Mix in the garlic, jalapeno, green chile peppers, cumin, oregano and cayenne. Continue to cook and stir the mixture until tender, about 3 minutes. Mix in the chicken broth, chicken and white beans. Simmer 15 minutes, stirring occasionally. Remove the mixture from heat. Slowly stir in the cheese until melted. Serve warm.\"\n",
    "})"
   ]
  },
  {
   "cell_type": "code",
   "execution_count": null,
   "id": "016a6b6e",
   "metadata": {},
   "outputs": [],
   "source": []
  },
  {
   "cell_type": "code",
   "execution_count": null,
   "id": "fc6e415a",
   "metadata": {},
   "outputs": [],
   "source": []
  }
 ],
 "metadata": {
  "kernelspec": {
   "display_name": "Python 3",
   "language": "python",
   "name": "python3"
  },
  "language_info": {
   "codemirror_mode": {
    "name": "ipython",
    "version": 3
   },
   "file_extension": ".py",
   "mimetype": "text/x-python",
   "name": "python",
   "nbconvert_exporter": "python",
   "pygments_lexer": "ipython3",
   "version": "3.8.8"
  }
 },
 "nbformat": 4,
 "nbformat_minor": 5
}

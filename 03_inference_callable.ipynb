{
 "cells": [
  {
   "cell_type": "code",
   "execution_count": 7,
   "id": "79757c6e",
   "metadata": {},
   "outputs": [],
   "source": [
    "from IngredientExtractor import IngredientExtractor"
   ]
  },
  {
   "cell_type": "code",
   "execution_count": 8,
   "id": "d4ab9caf",
   "metadata": {},
   "outputs": [
    {
     "name": "stderr",
     "output_type": "stream",
     "text": [
      "Warning : `load_model` does not return WordVectorModel or SupervisedModel any more, but a `FastText` object which is very similar.\n"
     ]
    }
   ],
   "source": [
    "extractor = IngredientExtractor(\"model_1dcnn.h5\")"
   ]
  },
  {
   "cell_type": "code",
   "execution_count": 9,
   "id": "e2a0a9ae",
   "metadata": {},
   "outputs": [
    {
     "data": {
      "text/plain": [
       "{'recipe1': [['powder', 39, 45],\n",
       "  ['apple', 112, 117],\n",
       "  ['oat', 102, 105],\n",
       "  ['soda', 54, 58],\n",
       "  ['baking soda', 47, 58],\n",
       "  ['combine flour', 17, 30],\n",
       "  ['nut', 76, 79],\n",
       "  ['nut', 119, 122],\n",
       "  ['nut', 218, 221],\n",
       "  ['baking', 32, 38],\n",
       "  ['baking', 47, 53],\n",
       "  ['sugar', 90, 95],\n",
       "  ['baking powder', 32, 45],\n",
       "  ['flour', 25, 30],\n",
       "  ['eggs', 134, 138],\n",
       "  ['raisin', 125, 131],\n",
       "  ['salt', 60, 64],\n",
       "  ['nutmeg', 76, 82],\n",
       "  ['milk', 140, 144],\n",
       "  ['oil', 150, 153],\n",
       "  ['brown sugar', 84, 95],\n",
       "  ['cinnamon', 66, 74]],\n",
       " 'recipe2': [['chicken', 258, 265],\n",
       "  ['chicken', 273, 280],\n",
       "  ['cheese until', 389, 401],\n",
       "  ['green chile peppers', 129, 148],\n",
       "  ['the chicken broth', 254, 271],\n",
       "  ['oregano', 157, 164],\n",
       "  ['onion until', 80, 91],\n",
       "  ['chile', 135, 140],\n",
       "  ['cayenne', 169, 176],\n",
       "  ['stir the onion', 71, 85],\n",
       "  ['the cheese', 385, 395],\n",
       "  ['cumin', 150, 155],\n",
       "  ['cheese', 389, 395],\n",
       "  ['the onion until', 76, 91],\n",
       "  ['onion', 80, 85],\n",
       "  ['the oil', 5, 12],\n",
       "  ['bean', 291, 295],\n",
       "  ['broth', 266, 271],\n",
       "  ['the garlic', 107, 117],\n",
       "  ['Heat the oil', 0, 12],\n",
       "  ['onion until tender', 80, 98],\n",
       "  ['white beans', 285, 296],\n",
       "  ['pepper', 141, 147],\n",
       "  ['chile peppers', 135, 148],\n",
       "  ['green', 129, 134],\n",
       "  ['jalapeno', 119, 127],\n",
       "  ['garlic', 111, 117],\n",
       "  ['oil', 9, 12],\n",
       "  ['chicken broth', 258, 271],\n",
       "  ['cook', 62, 66],\n",
       "  ['cook', 190, 194],\n",
       "  ['the onion', 76, 85],\n",
       "  ['green chile', 129, 140]]}"
      ]
     },
     "execution_count": 9,
     "metadata": {},
     "output_type": "execute_result"
    }
   ],
   "source": [
    "extractor.create_result_from_object({\n",
    "  \"recipe1\": 'In a large bowl, combine flour, baking powder, baking soda, salt, cinnamon, nutmeg, brown sugar, and  oats. Add apple, nuts, raisins, eggs, milk, and oil.  Mix until dry ingredients are moistened.**Bake for 55 to 60 minutes, or until done.  Cool on wire rack.',\n",
    "  \"recipe2\": \"Heat the oil in a large saucepan over medium-low heat. Slowly cook and stir the onion until tender. Mix in the garlic, jalapeno, green chile peppers, cumin, oregano and cayenne. Continue to cook and stir the mixture until tender, about 3 minutes. Mix in the chicken broth, chicken and white beans. Simmer 15 minutes, stirring occasionally. Remove the mixture from heat. Slowly stir in the cheese until melted. Serve warm.\"\n",
    "})"
   ]
  },
  {
   "cell_type": "code",
   "execution_count": null,
   "id": "c7a7bb56",
   "metadata": {},
   "outputs": [],
   "source": []
  },
  {
   "cell_type": "code",
   "execution_count": null,
   "id": "eea277d0",
   "metadata": {},
   "outputs": [],
   "source": []
  }
 ],
 "metadata": {
  "kernelspec": {
   "display_name": "Python 3",
   "language": "python",
   "name": "python3"
  },
  "language_info": {
   "codemirror_mode": {
    "name": "ipython",
    "version": 3
   },
   "file_extension": ".py",
   "mimetype": "text/x-python",
   "name": "python",
   "nbconvert_exporter": "python",
   "pygments_lexer": "ipython3",
   "version": "3.8.8"
  }
 },
 "nbformat": 4,
 "nbformat_minor": 5
}

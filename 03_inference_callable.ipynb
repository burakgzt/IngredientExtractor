{
 "cells": [
  {
   "cell_type": "code",
   "execution_count": 4,
   "id": "f9116c84",
   "metadata": {},
   "outputs": [],
   "source": [
    "from IngredientExtractor import IngredientExtractor"
   ]
  },
  {
   "cell_type": "code",
   "execution_count": 5,
   "id": "d835cd1f",
   "metadata": {},
   "outputs": [
    {
     "name": "stderr",
     "output_type": "stream",
     "text": [
      "Warning : `load_model` does not return WordVectorModel or SupervisedModel any more, but a `FastText` object which is very similar.\n"
     ]
    }
   ],
   "source": [
    "extractor = IngredientExtractor(\"model_1dcnn.h5\")"
   ]
  },
  {
   "cell_type": "code",
   "execution_count": 6,
   "id": "2a7306f3",
   "metadata": {},
   "outputs": [
    {
     "data": {
      "text/plain": [
       "{'recipe1': [['salt', 60, 64],\n",
       "  ['nutmeg', 76, 82],\n",
       "  ['flour', 25, 30],\n",
       "  ['apple', 112, 117],\n",
       "  ['combine flour', 17, 30],\n",
       "  ['brown sugar', 84, 95],\n",
       "  ['raisin', 125, 131],\n",
       "  ['sugar', 90, 95],\n",
       "  ['baking soda', 47, 58],\n",
       "  ['oat', 102, 105],\n",
       "  ['soda', 54, 58],\n",
       "  ['milk', 140, 144],\n",
       "  ['baking', 32, 38],\n",
       "  ['baking', 47, 53],\n",
       "  ['brown', 84, 89],\n",
       "  ['oil', 150, 153],\n",
       "  ['eggs', 134, 138],\n",
       "  ['cinnamon', 66, 74],\n",
       "  ['powder', 39, 45],\n",
       "  ['baking powder', 32, 45]],\n",
       " 'recipe2': []}"
      ]
     },
     "execution_count": 6,
     "metadata": {},
     "output_type": "execute_result"
    }
   ],
   "source": [
    "extractor.create_result_from_object({\n",
    "  \"recipe1\": 'In a large bowl, combine flour, baking powder, baking soda, salt, cinnamon, nutmeg, brown sugar, and  oats. Add apple, nuts, raisins, eggs, milk, and oil.  Mix until dry ingredients are moistened.**Bake for 55 to 60 minutes, or until done.  Cool on wire rack.',\n",
    "  \"recipe2\": \"2nd text\"\n",
    "})"
   ]
  },
  {
   "cell_type": "code",
   "execution_count": null,
   "id": "83a3f6c9",
   "metadata": {},
   "outputs": [],
   "source": []
  }
 ],
 "metadata": {
  "kernelspec": {
   "display_name": "Python 3",
   "language": "python",
   "name": "python3"
  },
  "language_info": {
   "codemirror_mode": {
    "name": "ipython",
    "version": 3
   },
   "file_extension": ".py",
   "mimetype": "text/x-python",
   "name": "python",
   "nbconvert_exporter": "python",
   "pygments_lexer": "ipython3",
   "version": "3.8.8"
  }
 },
 "nbformat": 4,
 "nbformat_minor": 5
}

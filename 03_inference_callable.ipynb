{
 "cells": [
  {
   "cell_type": "code",
   "execution_count": 5,
   "id": "d23ac550",
   "metadata": {},
   "outputs": [],
   "source": [
    "from IngredientExtractor import IngredientExtractor"
   ]
  },
  {
   "cell_type": "code",
   "execution_count": 6,
   "id": "5947c71a",
   "metadata": {},
   "outputs": [
    {
     "name": "stderr",
     "output_type": "stream",
     "text": [
      "Warning : `load_model` does not return WordVectorModel or SupervisedModel any more, but a `FastText` object which is very similar.\n"
     ]
    }
   ],
   "source": [
    "extractor = IngredientExtractor(\"model_1dcnn.h5\")"
   ]
  },
  {
   "cell_type": "code",
   "execution_count": 16,
   "id": "e410d8da",
   "metadata": {},
   "outputs": [
    {
     "data": {
      "text/plain": [
       "{'recipe1': [['nut', 76, 79],\n",
       "  ['nut', 119, 122],\n",
       "  ['nut', 218, 221],\n",
       "  ['apple', 112, 117],\n",
       "  ['milk', 140, 144],\n",
       "  ['oil', 150, 153],\n",
       "  ['oat', 102, 105],\n",
       "  ['eggs', 134, 138],\n",
       "  ['cinnamon', 66, 74],\n",
       "  ['raisin', 125, 131],\n",
       "  ['salt', 60, 64],\n",
       "  ['baking', 32, 38],\n",
       "  ['baking', 47, 53],\n",
       "  ['sugar', 90, 95],\n",
       "  ['powder', 39, 45],\n",
       "  ['Add apple', 108, 117],\n",
       "  ['nutmeg', 76, 82],\n",
       "  ['baking soda', 47, 58],\n",
       "  ['soda', 54, 58],\n",
       "  ['flour', 25, 30],\n",
       "  ['baking powder', 32, 45],\n",
       "  ['brown sugar', 84, 95],\n",
       "  ['brown', 84, 89],\n",
       "  ['combine flour', 17, 30]],\n",
       " 'recipe2': [['the onion', 76, 85],\n",
       "  ['onion until', 80, 91],\n",
       "  ['oil', 9, 12],\n",
       "  ['stir the onion', 71, 85],\n",
       "  ['white beans', 285, 296],\n",
       "  ['cook', 62, 66],\n",
       "  ['cook', 190, 194],\n",
       "  ['cayenne', 169, 176],\n",
       "  ['Heat the oil', 0, 12],\n",
       "  ['green chile', 129, 140],\n",
       "  ['chicken broth', 258, 271],\n",
       "  ['pepper', 141, 147],\n",
       "  ['green', 129, 134],\n",
       "  ['jalapeno', 119, 127],\n",
       "  ['the chicken broth', 254, 271],\n",
       "  ['chile peppers', 135, 148],\n",
       "  ['bean', 291, 295],\n",
       "  ['broth', 266, 271],\n",
       "  ['garlic', 111, 117],\n",
       "  ['the garlic', 107, 117],\n",
       "  ['cumin', 150, 155],\n",
       "  ['cheese until', 389, 401],\n",
       "  ['the oil', 5, 12],\n",
       "  ['the chicken', 254, 265],\n",
       "  ['onion', 80, 85],\n",
       "  ['chile', 135, 140],\n",
       "  ['oregano', 157, 164],\n",
       "  ['onion until tender', 80, 98],\n",
       "  ['the onion until', 76, 91],\n",
       "  ['chicken', 258, 265],\n",
       "  ['chicken', 273, 280],\n",
       "  ['the cheese', 385, 395],\n",
       "  ['cheese', 389, 395],\n",
       "  ['green chile peppers', 129, 148]]}"
      ]
     },
     "execution_count": 16,
     "metadata": {},
     "output_type": "execute_result"
    }
   ],
   "source": [
    "extractor.create_result_from_object({\n",
    "  \"recipe1\": 'In a large bowl, combine flour, baking powder, baking soda, salt, cinnamon, nutmeg, brown sugar, and  oats. Add apple, nuts, raisins, eggs, milk, and oil.  Mix until dry ingredients are moistened.**Bake for 55 to 60 minutes, or until done.  Cool on wire rack.',\n",
    "  \"recipe2\": \"Heat the oil in a large saucepan over medium-low heat. Slowly cook and stir the onion until tender. Mix in the garlic, jalapeno, green chile peppers, cumin, oregano and cayenne. Continue to cook and stir the mixture until tender, about 3 minutes. Mix in the chicken broth, chicken and white beans. Simmer 15 minutes, stirring occasionally. Remove the mixture from heat. Slowly stir in the cheese until melted. Serve warm.\"\n",
    "})"
   ]
  },
  {
   "cell_type": "code",
   "execution_count": null,
   "id": "bcf6982f",
   "metadata": {},
   "outputs": [],
   "source": []
  }
 ],
 "metadata": {
  "kernelspec": {
   "display_name": "Python 3",
   "language": "python",
   "name": "python3"
  },
  "language_info": {
   "codemirror_mode": {
    "name": "ipython",
    "version": 3
   },
   "file_extension": ".py",
   "mimetype": "text/x-python",
   "name": "python",
   "nbconvert_exporter": "python",
   "pygments_lexer": "ipython3",
   "version": "3.8.8"
  }
 },
 "nbformat": 4,
 "nbformat_minor": 5
}

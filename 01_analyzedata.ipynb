{
 "cells": [
  {
   "cell_type": "code",
   "execution_count": 1,
   "id": "495e71c5",
   "metadata": {},
   "outputs": [],
   "source": [
    "import re\n",
    "import pandas as pd"
   ]
  },
  {
   "cell_type": "markdown",
   "id": "88d79486",
   "metadata": {},
   "source": [
    "# 1. Read Data"
   ]
  },
  {
   "cell_type": "code",
   "execution_count": 2,
   "id": "718c2fa0",
   "metadata": {},
   "outputs": [
    {
     "data": {
      "text/html": [
       "<div>\n",
       "<style scoped>\n",
       "    .dataframe tbody tr th:only-of-type {\n",
       "        vertical-align: middle;\n",
       "    }\n",
       "\n",
       "    .dataframe tbody tr th {\n",
       "        vertical-align: top;\n",
       "    }\n",
       "\n",
       "    .dataframe thead th {\n",
       "        text-align: right;\n",
       "    }\n",
       "</style>\n",
       "<table border=\"1\" class=\"dataframe\">\n",
       "  <thead>\n",
       "    <tr style=\"text-align: right;\">\n",
       "      <th></th>\n",
       "      <th>Recipe Name</th>\n",
       "      <th>Review Count</th>\n",
       "      <th>Recipe Photo</th>\n",
       "      <th>Author</th>\n",
       "      <th>Prepare Time</th>\n",
       "      <th>Cook Time</th>\n",
       "      <th>Total Time</th>\n",
       "      <th>Ingredients</th>\n",
       "      <th>Directions</th>\n",
       "      <th>RecipeID</th>\n",
       "    </tr>\n",
       "  </thead>\n",
       "  <tbody>\n",
       "    <tr>\n",
       "      <th>0</th>\n",
       "      <td>Golden Crescent Rolls Recipe</td>\n",
       "      <td>304</td>\n",
       "      <td>https://images.media-allrecipes.com/userphotos...</td>\n",
       "      <td>Mike A.</td>\n",
       "      <td>25 m</td>\n",
       "      <td>15 m</td>\n",
       "      <td>3 h 10 m</td>\n",
       "      <td>yeast,water,white sugar,salt,egg,butter,flour,...</td>\n",
       "      <td>Dissolve yeast in warm water.**Stir in sugar, ...</td>\n",
       "      <td>7000</td>\n",
       "    </tr>\n",
       "    <tr>\n",
       "      <th>1</th>\n",
       "      <td>Poppy Seed Bread with Glaze Recipe</td>\n",
       "      <td>137</td>\n",
       "      <td>https://images.media-allrecipes.com/userphotos...</td>\n",
       "      <td>Christina Jun</td>\n",
       "      <td>15 m</td>\n",
       "      <td>1 h</td>\n",
       "      <td>1 h 20 m</td>\n",
       "      <td>flour,salt,baking powder,poppy,butter,vegetabl...</td>\n",
       "      <td>'Preheat oven to 350 degrees F (175 degrees C)...</td>\n",
       "      <td>7001</td>\n",
       "    </tr>\n",
       "    <tr>\n",
       "      <th>2</th>\n",
       "      <td>Applesauce Bread I Recipe</td>\n",
       "      <td>124</td>\n",
       "      <td>https://images.media-allrecipes.com/userphotos...</td>\n",
       "      <td>GAF55</td>\n",
       "      <td>10 m</td>\n",
       "      <td>1 h 20 m</td>\n",
       "      <td>1 h 30 m</td>\n",
       "      <td>flour,egg,white sugar,vegetable oil,applesauce...</td>\n",
       "      <td>Preheat oven to 350 degrees F (175 degrees C)....</td>\n",
       "      <td>7003</td>\n",
       "    </tr>\n",
       "  </tbody>\n",
       "</table>\n",
       "</div>"
      ],
      "text/plain": [
       "                           Recipe Name Review Count  \\\n",
       "0        Golden Crescent Rolls Recipe           304   \n",
       "1  Poppy Seed Bread with Glaze Recipe           137   \n",
       "2           Applesauce Bread I Recipe           124   \n",
       "\n",
       "                                        Recipe Photo         Author  \\\n",
       "0  https://images.media-allrecipes.com/userphotos...        Mike A.   \n",
       "1  https://images.media-allrecipes.com/userphotos...  Christina Jun   \n",
       "2  https://images.media-allrecipes.com/userphotos...          GAF55   \n",
       "\n",
       "  Prepare Time Cook Time Total Time  \\\n",
       "0         25 m      15 m   3 h 10 m   \n",
       "1         15 m       1 h   1 h 20 m   \n",
       "2         10 m  1 h 20 m   1 h 30 m   \n",
       "\n",
       "                                         Ingredients  \\\n",
       "0  yeast,water,white sugar,salt,egg,butter,flour,...   \n",
       "1  flour,salt,baking powder,poppy,butter,vegetabl...   \n",
       "2  flour,egg,white sugar,vegetable oil,applesauce...   \n",
       "\n",
       "                                          Directions  RecipeID  \n",
       "0  Dissolve yeast in warm water.**Stir in sugar, ...      7000  \n",
       "1  'Preheat oven to 350 degrees F (175 degrees C)...      7001  \n",
       "2  Preheat oven to 350 degrees F (175 degrees C)....      7003  "
      ]
     },
     "execution_count": 2,
     "metadata": {},
     "output_type": "execute_result"
    }
   ],
   "source": [
    "df = pd.read_csv('recipes.csv', delimiter=';')\n",
    "\n",
    "# Filter nan columns for Ingredients and Directions\n",
    "df = df[df['Ingredients'].notnull()]\n",
    "df = df[df['Directions'].notnull()]\n",
    "\n",
    "df.head(3)"
   ]
  },
  {
   "cell_type": "code",
   "execution_count": 3,
   "id": "aae30882",
   "metadata": {},
   "outputs": [
    {
     "data": {
      "text/plain": [
       "'Dissolve yeast in warm water.**Stir in sugar, salt, eggs, butter, and 2 cups of flour. Beat until smooth. Mix in remaining flour until smooth. Scrape dough from side of bowl. Knead dough, then cover it and let rise in a warm place until double (about 1 1/2 hours).**Punch down dough. Divide in half. Roll each half into a 12-inch circle. Spread with butter. Cut into 10 to 15 wedge. Roll up the wedges starting with the wide end. Place rolls with point under on a greased baking sheet. Cover and let rise until double (about 1 hour).**Bake at 400 degrees F (205 degrees C) for 12-15 minute or until golden brown. Brush tops with butter when they come out of the oven.**'"
      ]
     },
     "execution_count": 3,
     "metadata": {},
     "output_type": "execute_result"
    }
   ],
   "source": [
    "df.iloc[0].Directions"
   ]
  },
  {
   "cell_type": "code",
   "execution_count": 4,
   "id": "b68a8003",
   "metadata": {},
   "outputs": [
    {
     "data": {
      "text/plain": [
       "'yeast,water,white sugar,salt,egg,butter,flour,butter'"
      ]
     },
     "execution_count": 4,
     "metadata": {},
     "output_type": "execute_result"
    }
   ],
   "source": [
    "df.iloc[0].Ingredients"
   ]
  },
  {
   "cell_type": "markdown",
   "id": "b7dc3343",
   "metadata": {},
   "source": [
    "# 2. Parse Data"
   ]
  },
  {
   "cell_type": "markdown",
   "id": "944a6470",
   "metadata": {},
   "source": [
    "## 2.1 Single Example"
   ]
  },
  {
   "cell_type": "code",
   "execution_count": 5,
   "id": "19c88109",
   "metadata": {},
   "outputs": [
    {
     "data": {
      "text/plain": [
       "['yeast', 'water', 'white sugar', 'salt', 'egg', 'butter', 'flour', 'butter']"
      ]
     },
     "execution_count": 5,
     "metadata": {},
     "output_type": "execute_result"
    }
   ],
   "source": [
    "text = df.iloc[0].Directions\n",
    "ingredients = df.iloc[0].Ingredients.split(',')\n",
    "\n",
    "ingredients"
   ]
  },
  {
   "cell_type": "code",
   "execution_count": 6,
   "id": "619fd48c",
   "metadata": {},
   "outputs": [
    {
     "data": {
      "text/plain": [
       "[('yeast', 9, 14),\n",
       " ('water', 23, 28),\n",
       " ('salt', 46, 50),\n",
       " ('egg', 52, 55),\n",
       " ('butter', 58, 64),\n",
       " ('butter', 350, 356),\n",
       " ('butter', 629, 635),\n",
       " ('flour', 80, 85),\n",
       " ('flour', 123, 128),\n",
       " ('butter', 58, 64),\n",
       " ('butter', 350, 356),\n",
       " ('butter', 629, 635)]"
      ]
     },
     "execution_count": 6,
     "metadata": {},
     "output_type": "execute_result"
    }
   ],
   "source": [
    "matches = []\n",
    "for item in ingredients:\n",
    "    matches += [(item, match.start(),match.end()) for match in re.finditer(item, text)]\n",
    "    \n",
    "matches"
   ]
  },
  {
   "cell_type": "markdown",
   "id": "c619a100",
   "metadata": {},
   "source": [
    "## 2.2 Apply to All"
   ]
  },
  {
   "cell_type": "code",
   "execution_count": 7,
   "id": "04ba778d",
   "metadata": {},
   "outputs": [],
   "source": [
    "def parse_data_from_df(df):\n",
    "    data_parsed = []\n",
    "    \n",
    "    # Iterate over dataframe\n",
    "    for ingredients,direction in zip(df.Ingredients,df.Directions):    \n",
    "        matches = []\n",
    "        \n",
    "        # Find matched ingredients in current recipie\n",
    "        for item in ingredients.split(','):\n",
    "            # add start and end poses to list\n",
    "            matches += [(item, match.start(),match.end()) for match in re.finditer(item, direction)]\n",
    "\n",
    "        data_parsed.append({\"recipe\":direction,\"ingredients\": matches})\n",
    "    \n",
    "    return data_parsed"
   ]
  },
  {
   "cell_type": "code",
   "execution_count": 8,
   "id": "ae0f04bb",
   "metadata": {},
   "outputs": [
    {
     "data": {
      "text/plain": [
       "12345"
      ]
     },
     "execution_count": 8,
     "metadata": {},
     "output_type": "execute_result"
    }
   ],
   "source": [
    "parsed = parse_data_from_df(df)\n",
    "len(parsed)"
   ]
  },
  {
   "cell_type": "code",
   "execution_count": 9,
   "id": "0971cb43",
   "metadata": {},
   "outputs": [
    {
     "data": {
      "text/plain": [
       "{'recipe': 'Dissolve yeast in warm water.**Stir in sugar, salt, eggs, butter, and 2 cups of flour. Beat until smooth. Mix in remaining flour until smooth. Scrape dough from side of bowl. Knead dough, then cover it and let rise in a warm place until double (about 1 1/2 hours).**Punch down dough. Divide in half. Roll each half into a 12-inch circle. Spread with butter. Cut into 10 to 15 wedge. Roll up the wedges starting with the wide end. Place rolls with point under on a greased baking sheet. Cover and let rise until double (about 1 hour).**Bake at 400 degrees F (205 degrees C) for 12-15 minute or until golden brown. Brush tops with butter when they come out of the oven.**',\n",
       " 'ingredients': [('yeast', 9, 14),\n",
       "  ('water', 23, 28),\n",
       "  ('salt', 46, 50),\n",
       "  ('egg', 52, 55),\n",
       "  ('butter', 58, 64),\n",
       "  ('butter', 350, 356),\n",
       "  ('butter', 629, 635),\n",
       "  ('flour', 80, 85),\n",
       "  ('flour', 123, 128),\n",
       "  ('butter', 58, 64),\n",
       "  ('butter', 350, 356),\n",
       "  ('butter', 629, 635)]}"
      ]
     },
     "execution_count": 9,
     "metadata": {},
     "output_type": "execute_result"
    }
   ],
   "source": [
    "parsed[0]"
   ]
  },
  {
   "cell_type": "code",
   "execution_count": null,
   "id": "870d520f",
   "metadata": {},
   "outputs": [],
   "source": []
  },
  {
   "cell_type": "markdown",
   "id": "986eb1e7",
   "metadata": {},
   "source": [
    "# 3. Analyze For Missing Ingredients"
   ]
  },
  {
   "cell_type": "code",
   "execution_count": 10,
   "id": "c7f768e3",
   "metadata": {},
   "outputs": [],
   "source": [
    "directions_all = df.Directions.to_list()\n",
    "ingredients_all = df.Ingredients.to_list()\n",
    "\n",
    "assert len(directions_all) == len(ingredients_all)"
   ]
  },
  {
   "cell_type": "code",
   "execution_count": 11,
   "id": "d19e30aa",
   "metadata": {},
   "outputs": [
    {
     "data": {
      "text/plain": [
       "862"
      ]
     },
     "execution_count": 11,
     "metadata": {},
     "output_type": "execute_result"
    }
   ],
   "source": [
    "not_found = []\n",
    "\n",
    "for ingredients,direction,i in zip(df.Ingredients,df.Directions, df.index):    \n",
    "    for item in ingredients.split(','):\n",
    "        # Check if item is exist in direction text. (If not, there may be misspelling)\n",
    "        item_match = [match for match in re.finditer(item, direction)]\n",
    "        if len(item_match) == 0:\n",
    "            not_found.append((item,i))\n",
    "\n",
    "not_found = dict(not_found)        \n",
    "len(not_found)"
   ]
  },
  {
   "cell_type": "code",
   "execution_count": 13,
   "id": "3daacb69",
   "metadata": {},
   "outputs": [
    {
     "data": {
      "text/plain": [
       "[('white sugar', 12350),\n",
       " ('vegetable oil', 12349),\n",
       " ('baking soda', 12035),\n",
       " ('walnut', 11997),\n",
       " ('lemon', 11984)]"
      ]
     },
     "execution_count": 13,
     "metadata": {},
     "output_type": "execute_result"
    }
   ],
   "source": [
    "list(not_found.items())[0:5]"
   ]
  },
  {
   "cell_type": "code",
   "execution_count": null,
   "id": "c57ef38b",
   "metadata": {},
   "outputs": [],
   "source": []
  }
 ],
 "metadata": {
  "kernelspec": {
   "display_name": "Python 3",
   "language": "python",
   "name": "python3"
  },
  "language_info": {
   "codemirror_mode": {
    "name": "ipython",
    "version": 3
   },
   "file_extension": ".py",
   "mimetype": "text/x-python",
   "name": "python",
   "nbconvert_exporter": "python",
   "pygments_lexer": "ipython3",
   "version": "3.8.8"
  }
 },
 "nbformat": 4,
 "nbformat_minor": 5
}

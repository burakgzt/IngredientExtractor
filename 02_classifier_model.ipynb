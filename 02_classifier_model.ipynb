{
 "cells": [
  {
   "cell_type": "code",
   "execution_count": 1,
   "id": "ad01f429",
   "metadata": {},
   "outputs": [],
   "source": [
    "import re\n",
    "import nltk\n",
    "import random\n",
    "import numpy as np\n",
    "import pandas as pd\n",
    "from tqdm import tqdm\n",
    "\n",
    "from matplotlib import pyplot as plt\n",
    "%matplotlib inline"
   ]
  },
  {
   "cell_type": "code",
   "execution_count": 2,
   "id": "c2632d3e",
   "metadata": {},
   "outputs": [
    {
     "name": "stderr",
     "output_type": "stream",
     "text": [
      "[nltk_data] Downloading package punkt to\n",
      "[nltk_data]     /Users/burakgozutok/nltk_data...\n",
      "[nltk_data]   Package punkt is already up-to-date!\n",
      "[nltk_data] Downloading package wordnet to\n",
      "[nltk_data]     /Users/burakgozutok/nltk_data...\n",
      "[nltk_data]   Package wordnet is already up-to-date!\n"
     ]
    },
    {
     "data": {
      "text/plain": [
       "True"
      ]
     },
     "execution_count": 2,
     "metadata": {},
     "output_type": "execute_result"
    }
   ],
   "source": [
    "nltk.download('punkt')\n",
    "nltk.download('wordnet')"
   ]
  },
  {
   "cell_type": "markdown",
   "id": "13664892",
   "metadata": {},
   "source": [
    "# 1. Read Data"
   ]
  },
  {
   "cell_type": "code",
   "execution_count": 3,
   "id": "877a67b1",
   "metadata": {},
   "outputs": [
    {
     "data": {
      "text/html": [
       "<div>\n",
       "<style scoped>\n",
       "    .dataframe tbody tr th:only-of-type {\n",
       "        vertical-align: middle;\n",
       "    }\n",
       "\n",
       "    .dataframe tbody tr th {\n",
       "        vertical-align: top;\n",
       "    }\n",
       "\n",
       "    .dataframe thead th {\n",
       "        text-align: right;\n",
       "    }\n",
       "</style>\n",
       "<table border=\"1\" class=\"dataframe\">\n",
       "  <thead>\n",
       "    <tr style=\"text-align: right;\">\n",
       "      <th></th>\n",
       "      <th>Recipe Name</th>\n",
       "      <th>Review Count</th>\n",
       "      <th>Recipe Photo</th>\n",
       "      <th>Author</th>\n",
       "      <th>Prepare Time</th>\n",
       "      <th>Cook Time</th>\n",
       "      <th>Total Time</th>\n",
       "      <th>Ingredients</th>\n",
       "      <th>Directions</th>\n",
       "      <th>RecipeID</th>\n",
       "    </tr>\n",
       "  </thead>\n",
       "  <tbody>\n",
       "    <tr>\n",
       "      <th>0</th>\n",
       "      <td>Golden Crescent Rolls Recipe</td>\n",
       "      <td>304</td>\n",
       "      <td>https://images.media-allrecipes.com/userphotos...</td>\n",
       "      <td>Mike A.</td>\n",
       "      <td>25 m</td>\n",
       "      <td>15 m</td>\n",
       "      <td>3 h 10 m</td>\n",
       "      <td>yeast,water,white sugar,salt,egg,butter,flour,...</td>\n",
       "      <td>Dissolve yeast in warm water. Stir in sugar, s...</td>\n",
       "      <td>7000</td>\n",
       "    </tr>\n",
       "    <tr>\n",
       "      <th>1</th>\n",
       "      <td>Poppy Seed Bread with Glaze Recipe</td>\n",
       "      <td>137</td>\n",
       "      <td>https://images.media-allrecipes.com/userphotos...</td>\n",
       "      <td>Christina Jun</td>\n",
       "      <td>15 m</td>\n",
       "      <td>1 h</td>\n",
       "      <td>1 h 20 m</td>\n",
       "      <td>flour,salt,baking powder,poppy,butter,vegetabl...</td>\n",
       "      <td>'Preheat oven to 350 degrees F (175 degrees C)...</td>\n",
       "      <td>7001</td>\n",
       "    </tr>\n",
       "  </tbody>\n",
       "</table>\n",
       "</div>"
      ],
      "text/plain": [
       "                           Recipe Name Review Count  \\\n",
       "0        Golden Crescent Rolls Recipe           304   \n",
       "1  Poppy Seed Bread with Glaze Recipe           137   \n",
       "\n",
       "                                        Recipe Photo         Author  \\\n",
       "0  https://images.media-allrecipes.com/userphotos...        Mike A.   \n",
       "1  https://images.media-allrecipes.com/userphotos...  Christina Jun   \n",
       "\n",
       "  Prepare Time Cook Time Total Time  \\\n",
       "0         25 m      15 m   3 h 10 m   \n",
       "1         15 m       1 h   1 h 20 m   \n",
       "\n",
       "                                         Ingredients  \\\n",
       "0  yeast,water,white sugar,salt,egg,butter,flour,...   \n",
       "1  flour,salt,baking powder,poppy,butter,vegetabl...   \n",
       "\n",
       "                                          Directions  RecipeID  \n",
       "0  Dissolve yeast in warm water. Stir in sugar, s...      7000  \n",
       "1  'Preheat oven to 350 degrees F (175 degrees C)...      7001  "
      ]
     },
     "execution_count": 3,
     "metadata": {},
     "output_type": "execute_result"
    }
   ],
   "source": [
    "df = pd.read_csv('recipes.csv', delimiter=';')\n",
    "\n",
    "# Filter nan columns for Ingredients and Directions\n",
    "df = df[df['Ingredients'].notnull()]\n",
    "df = df[df['Directions'].notnull()]\n",
    "df.Directions = df.Directions.apply(lambda x: x.replace('**', ' '))\n",
    "\n",
    "df.head(2)"
   ]
  },
  {
   "cell_type": "markdown",
   "id": "0288d3e5",
   "metadata": {},
   "source": [
    "#### Create List of Words from Ingredients and recipies"
   ]
  },
  {
   "cell_type": "code",
   "execution_count": 4,
   "id": "3cb8ec25",
   "metadata": {},
   "outputs": [
    {
     "name": "stderr",
     "output_type": "stream",
     "text": [
      "100%|██████████| 12345/12345 [00:09<00:00, 1357.05it/s]\n"
     ]
    },
    {
     "data": {
      "text/plain": [
       "(1245567, 942)"
      ]
     },
     "execution_count": 4,
     "metadata": {},
     "output_type": "execute_result"
    }
   ],
   "source": [
    "ingredients_all = list(set([item for row in df.Ingredients for item in row.split(',') if len(item) > 0]))\n",
    "words_all = [word for row in tqdm(df.Directions.to_list()) for word in nltk.word_tokenize(row)]\n",
    "\n",
    "len(words_all), len(ingredients_all)"
   ]
  },
  {
   "cell_type": "code",
   "execution_count": null,
   "id": "12cbd3ba",
   "metadata": {},
   "outputs": [],
   "source": []
  },
  {
   "cell_type": "markdown",
   "id": "d2d3c1d2",
   "metadata": {},
   "source": [
    "# 2. Prepare Data for Model"
   ]
  },
  {
   "cell_type": "markdown",
   "id": "ecdfb6a8",
   "metadata": {},
   "source": [
    "#### Train Test Split"
   ]
  },
  {
   "cell_type": "code",
   "execution_count": 5,
   "id": "4cea3378",
   "metadata": {},
   "outputs": [
    {
     "data": {
      "text/plain": [
       "(11110, 617, 618)"
      ]
     },
     "execution_count": 5,
     "metadata": {},
     "output_type": "execute_result"
    }
   ],
   "source": [
    "from sklearn.model_selection import train_test_split\n",
    "X_train, X_val = train_test_split(df, test_size=0.1, random_state=42)\n",
    "X_val, X_test = train_test_split(X_val, test_size=0.5, random_state=42)\n",
    "\n",
    "len(X_train), len(X_val), len(X_test)"
   ]
  },
  {
   "cell_type": "markdown",
   "id": "6b1b0692",
   "metadata": {},
   "source": [
    "#### Split Ingredients and recipes to words seperately for train,test,val"
   ]
  },
  {
   "cell_type": "code",
   "execution_count": 6,
   "id": "d60e10d9",
   "metadata": {},
   "outputs": [
    {
     "name": "stderr",
     "output_type": "stream",
     "text": [
      "100%|██████████| 11110/11110 [00:09<00:00, 1233.08it/s]\n",
      "100%|██████████| 617/617 [00:00<00:00, 1406.62it/s]\n",
      "100%|██████████| 618/618 [00:00<00:00, 1466.57it/s]\n"
     ]
    }
   ],
   "source": [
    "def parse_df(df):\n",
    "    ingredients_all = list(set([item for row in df.Ingredients for item in row.split(',') if (len(item) > 0 and \" \" not in item)]))\n",
    "    words_all = list(set([word for row in tqdm(df.Directions.to_list()) for word in nltk.word_tokenize(row)]))\n",
    "    \n",
    "    #Put label 0 to normal words and 1 to ingredients.\n",
    "    words_0 = list(set(words_all) - set(ingredients_all))\n",
    "    words_1 = ingredients_all\n",
    "    \n",
    "    # Combine 0s and 1s\n",
    "    x = words_0 + words_1\n",
    "    y = [0 for i in range(len(words_0))] + [1 for i in range(len(words_0))]\n",
    "    \n",
    "    # Shuffle data\n",
    "    c = list(zip(x, y))\n",
    "    random.shuffle(c)\n",
    "    x, y = zip(*c)\n",
    "    \n",
    "    assert len(x) == len(y)\n",
    "    return x,y\n",
    "\n",
    "X_train_words, y_train_words = parse_df(X_train)\n",
    "X_val_words, y_val_words = parse_df(X_val)\n",
    "X_test_words, y_test_words = parse_df(X_test)"
   ]
  },
  {
   "cell_type": "code",
   "execution_count": null,
   "id": "087fa0a5",
   "metadata": {},
   "outputs": [],
   "source": []
  },
  {
   "cell_type": "markdown",
   "id": "e2e64ffd",
   "metadata": {},
   "source": [
    "# Vectorize Text"
   ]
  },
  {
   "cell_type": "code",
   "execution_count": 7,
   "id": "277ef774",
   "metadata": {},
   "outputs": [
    {
     "name": "stderr",
     "output_type": "stream",
     "text": [
      "Warning : `load_model` does not return WordVectorModel or SupervisedModel any more, but a `FastText` object which is very similar.\n"
     ]
    }
   ],
   "source": [
    "# Load FastText Model\n",
    "#\n",
    "import fasttext.util\n",
    "fasttext.util.download_model('en', if_exists='ignore')  # English\n",
    "ft_model = fasttext.load_model('cc.en.300.bin')"
   ]
  },
  {
   "cell_type": "code",
   "execution_count": 8,
   "id": "f1a1ca50",
   "metadata": {},
   "outputs": [
    {
     "data": {
      "text/plain": [
       "((7465, 300, 1), (2548, 300, 1), (2579, 300, 1))"
      ]
     },
     "execution_count": 8,
     "metadata": {},
     "output_type": "execute_result"
    }
   ],
   "source": [
    "# Vectorize Words\n",
    "# \n",
    "X_train_vectors = [ft_model.get_sentence_vector(x) for x in X_train_words]\n",
    "X_val_vectors = [ft_model.get_sentence_vector(x) for x in X_val_words]\n",
    "X_test_vectors = [ft_model.get_sentence_vector(x) for x in X_test_words]\n",
    "\n",
    "X_train_vectors = np.expand_dims(np.array(X_train_vectors), axis=2)\n",
    "X_val_vectors = np.expand_dims(np.array(X_val_vectors), axis=2)\n",
    "X_test_vectors = np.expand_dims(np.array(X_test_vectors), axis=2)\n",
    "\n",
    "y_train_words = np.array(y_train_words)\n",
    "y_val_words = np.array(y_val_words)\n",
    "y_test_words = np.array(y_test_words)\n",
    "\n",
    "X_train_vectors.shape, X_val_vectors.shape, X_test_vectors.shape"
   ]
  },
  {
   "cell_type": "code",
   "execution_count": null,
   "id": "b81081cc",
   "metadata": {},
   "outputs": [],
   "source": []
  },
  {
   "cell_type": "markdown",
   "id": "5486966e",
   "metadata": {},
   "source": [
    "# 1D CNN Model"
   ]
  },
  {
   "cell_type": "code",
   "execution_count": 9,
   "id": "f88c1ce1",
   "metadata": {},
   "outputs": [
    {
     "name": "stderr",
     "output_type": "stream",
     "text": [
      "/Users/burakgozutok/opt/anaconda3/lib/python3.8/site-packages/tensorflow/python/framework/dtypes.py:523: FutureWarning: Passing (type, 1) or '1type' as a synonym of type is deprecated; in a future version of numpy, it will be understood as (type, (1,)) / '(1,)type'.\n",
      "  _np_qint8 = np.dtype([(\"qint8\", np.int8, 1)])\n",
      "/Users/burakgozutok/opt/anaconda3/lib/python3.8/site-packages/tensorflow/python/framework/dtypes.py:524: FutureWarning: Passing (type, 1) or '1type' as a synonym of type is deprecated; in a future version of numpy, it will be understood as (type, (1,)) / '(1,)type'.\n",
      "  _np_quint8 = np.dtype([(\"quint8\", np.uint8, 1)])\n",
      "/Users/burakgozutok/opt/anaconda3/lib/python3.8/site-packages/tensorflow/python/framework/dtypes.py:525: FutureWarning: Passing (type, 1) or '1type' as a synonym of type is deprecated; in a future version of numpy, it will be understood as (type, (1,)) / '(1,)type'.\n",
      "  _np_qint16 = np.dtype([(\"qint16\", np.int16, 1)])\n",
      "/Users/burakgozutok/opt/anaconda3/lib/python3.8/site-packages/tensorflow/python/framework/dtypes.py:526: FutureWarning: Passing (type, 1) or '1type' as a synonym of type is deprecated; in a future version of numpy, it will be understood as (type, (1,)) / '(1,)type'.\n",
      "  _np_quint16 = np.dtype([(\"quint16\", np.uint16, 1)])\n",
      "/Users/burakgozutok/opt/anaconda3/lib/python3.8/site-packages/tensorflow/python/framework/dtypes.py:527: FutureWarning: Passing (type, 1) or '1type' as a synonym of type is deprecated; in a future version of numpy, it will be understood as (type, (1,)) / '(1,)type'.\n",
      "  _np_qint32 = np.dtype([(\"qint32\", np.int32, 1)])\n",
      "/Users/burakgozutok/opt/anaconda3/lib/python3.8/site-packages/tensorflow/python/framework/dtypes.py:532: FutureWarning: Passing (type, 1) or '1type' as a synonym of type is deprecated; in a future version of numpy, it will be understood as (type, (1,)) / '(1,)type'.\n",
      "  np_resource = np.dtype([(\"resource\", np.ubyte, 1)])\n",
      "<frozen importlib._bootstrap>:219: RuntimeWarning: compiletime version 3.6 of module 'tensorflow.python.framework.fast_tensor_util' does not match runtime version 3.8\n",
      "<frozen importlib._bootstrap>:219: RuntimeWarning: builtins.type size changed, may indicate binary incompatibility. Expected 880, got 864\n"
     ]
    }
   ],
   "source": [
    "from tensorflow.keras import optimizers\n",
    "from tensorflow.keras.models import Sequential\n",
    "from tensorflow.keras.layers import Dense, Dropout, Flatten\n",
    "from tensorflow.keras.layers import Conv1D, MaxPooling1D\n",
    "\n",
    "from tensorflow.keras.callbacks import EarlyStopping"
   ]
  },
  {
   "cell_type": "markdown",
   "id": "f49515a0",
   "metadata": {},
   "source": [
    "### Create Model and show summary"
   ]
  },
  {
   "cell_type": "code",
   "execution_count": 10,
   "id": "8978a4e3",
   "metadata": {},
   "outputs": [
    {
     "name": "stdout",
     "output_type": "stream",
     "text": [
      "_________________________________________________________________\n",
      "Layer (type)                 Output Shape              Param #   \n",
      "=================================================================\n",
      "conv1d (Conv1D)              (None, 293, 16)           144       \n",
      "_________________________________________________________________\n",
      "max_pooling1d (MaxPooling1D) (None, 146, 16)           0         \n",
      "_________________________________________________________________\n",
      "flatten (Flatten)            (None, 2336)              0         \n",
      "_________________________________________________________________\n",
      "dropout (Dropout)            (None, 2336)              0         \n",
      "_________________________________________________________________\n",
      "dense (Dense)                (None, 16)                37392     \n",
      "_________________________________________________________________\n",
      "dense_1 (Dense)              (None, 1)                 17        \n",
      "=================================================================\n",
      "Total params: 37,553\n",
      "Trainable params: 37,553\n",
      "Non-trainable params: 0\n",
      "_________________________________________________________________\n"
     ]
    }
   ],
   "source": [
    "model = Sequential()\n",
    "model.add(Conv1D(filters=16, kernel_size=8, activation='relu',input_shape=(300,1)))\n",
    "model.add(MaxPooling1D(pool_size=2))\n",
    "model.add(Flatten())\n",
    "model.add(Dropout(0.5))\n",
    "model.add(Dense(16, activation='relu'))\n",
    "model.add(Dense(1, activation='sigmoid'))\n",
    "\n",
    "adam = optimizers.Adam(lr=0.0001)\n",
    "model.compile(loss='binary_crossentropy', optimizer=adam, metrics=['accuracy'])\n",
    "model.summary()"
   ]
  },
  {
   "cell_type": "markdown",
   "id": "01a44c4d",
   "metadata": {},
   "source": [
    "### Calculate Class Weights for the imbalance"
   ]
  },
  {
   "cell_type": "code",
   "execution_count": 11,
   "id": "1bd49c6a",
   "metadata": {},
   "outputs": [
    {
     "name": "stderr",
     "output_type": "stream",
     "text": [
      "/Users/burakgozutok/opt/anaconda3/lib/python3.8/site-packages/sklearn/utils/validation.py:70: FutureWarning: Pass classes=[0 1], y=[0 0 0 ... 0 0 0] as keyword args. From version 1.0 (renaming of 0.25) passing these as positional arguments will result in an error\n",
      "  warnings.warn(f\"Pass {args_msg} as keyword args. From version \"\n"
     ]
    },
    {
     "data": {
      "text/plain": [
       "{0: 0.5250386833591223, 1: 10.484550561797754}"
      ]
     },
     "execution_count": 11,
     "metadata": {},
     "output_type": "execute_result"
    }
   ],
   "source": [
    "from sklearn.utils import class_weight\n",
    "class_weights = dict(zip(np.unique(y_train_words), class_weight.compute_class_weight('balanced', np.unique(y_train_words), \n",
    "                y_train_words))) \n",
    "class_weights"
   ]
  },
  {
   "cell_type": "markdown",
   "id": "c837d06e",
   "metadata": {},
   "source": [
    "### Train Model"
   ]
  },
  {
   "cell_type": "code",
   "execution_count": 12,
   "id": "d2e305fa",
   "metadata": {
    "scrolled": true
   },
   "outputs": [
    {
     "name": "stdout",
     "output_type": "stream",
     "text": [
      "Train on 7465 samples, validate on 2548 samples\n",
      "Epoch 1/100\n",
      "7465/7465 [==============================] - 1s 157us/step - loss: 0.6609 - acc: 0.9344 - val_loss: 0.5378 - val_acc: 0.9078\n",
      "Epoch 2/100\n",
      "7465/7465 [==============================] - 1s 137us/step - loss: 0.5927 - acc: 0.9512 - val_loss: 0.4629 - val_acc: 0.9195\n",
      "Epoch 3/100\n",
      "7465/7465 [==============================] - 1s 154us/step - loss: 0.5241 - acc: 0.9257 - val_loss: 0.4242 - val_acc: 0.8964\n",
      "Epoch 4/100\n",
      "7465/7465 [==============================] - 1s 125us/step - loss: 0.4744 - acc: 0.8930 - val_loss: 0.3636 - val_acc: 0.8976\n",
      "Epoch 5/100\n",
      "7465/7465 [==============================] - 1s 114us/step - loss: 0.4337 - acc: 0.8977 - val_loss: 0.3970 - val_acc: 0.8611\n",
      "Epoch 6/100\n",
      "7465/7465 [==============================] - 1s 115us/step - loss: 0.4072 - acc: 0.8880 - val_loss: 0.3494 - val_acc: 0.8756\n",
      "Epoch 7/100\n",
      "7465/7465 [==============================] - 1s 130us/step - loss: 0.3914 - acc: 0.8895 - val_loss: 0.3344 - val_acc: 0.8752\n",
      "Epoch 8/100\n",
      "7465/7465 [==============================] - 1s 125us/step - loss: 0.3747 - acc: 0.8841 - val_loss: 0.2812 - val_acc: 0.8952\n",
      "Epoch 9/100\n",
      "7465/7465 [==============================] - 1s 135us/step - loss: 0.3664 - acc: 0.8812 - val_loss: 0.3225 - val_acc: 0.8705\n",
      "Epoch 10/100\n",
      "7465/7465 [==============================] - 1s 121us/step - loss: 0.3646 - acc: 0.8832 - val_loss: 0.3200 - val_acc: 0.8697\n",
      "Epoch 11/100\n",
      "7465/7465 [==============================] - 1s 109us/step - loss: 0.3491 - acc: 0.8843 - val_loss: 0.2962 - val_acc: 0.8795\n",
      "Epoch 12/100\n",
      "7465/7465 [==============================] - 1s 114us/step - loss: 0.3443 - acc: 0.8820 - val_loss: 0.2501 - val_acc: 0.9015\n",
      "Epoch 13/100\n",
      "7465/7465 [==============================] - 1s 114us/step - loss: 0.3352 - acc: 0.8820 - val_loss: 0.2396 - val_acc: 0.9050\n",
      "Epoch 14/100\n",
      "7465/7465 [==============================] - 1s 96us/step - loss: 0.3286 - acc: 0.8914 - val_loss: 0.2812 - val_acc: 0.8815\n",
      "Epoch 15/100\n",
      "7465/7465 [==============================] - 1s 113us/step - loss: 0.3229 - acc: 0.8955 - val_loss: 0.3012 - val_acc: 0.8717\n",
      "Epoch 16/100\n",
      "7465/7465 [==============================] - 1s 98us/step - loss: 0.3138 - acc: 0.8908 - val_loss: 0.2968 - val_acc: 0.8740\n",
      "Epoch 17/100\n",
      "7465/7465 [==============================] - 1s 91us/step - loss: 0.3285 - acc: 0.8884 - val_loss: 0.3014 - val_acc: 0.8724\n",
      "Epoch 18/100\n",
      "7465/7465 [==============================] - 1s 119us/step - loss: 0.3097 - acc: 0.8867 - val_loss: 0.2391 - val_acc: 0.9027\n",
      "Epoch 19/100\n",
      "7465/7465 [==============================] - 1s 122us/step - loss: 0.3095 - acc: 0.8983 - val_loss: 0.2813 - val_acc: 0.8823\n",
      "Epoch 20/100\n",
      "7465/7465 [==============================] - 1s 116us/step - loss: 0.3110 - acc: 0.8908 - val_loss: 0.2714 - val_acc: 0.8874\n",
      "Epoch 21/100\n",
      "7465/7465 [==============================] - 1s 112us/step - loss: 0.2911 - acc: 0.8974 - val_loss: 0.2655 - val_acc: 0.8897\n",
      "Epoch 22/100\n",
      "7465/7465 [==============================] - 1s 90us/step - loss: 0.2967 - acc: 0.8958 - val_loss: 0.2674 - val_acc: 0.8897\n",
      "Epoch 23/100\n",
      "7465/7465 [==============================] - 1s 93us/step - loss: 0.2936 - acc: 0.9022 - val_loss: 0.3267 - val_acc: 0.8626\n",
      "Epoch 24/100\n",
      "7465/7465 [==============================] - 1s 93us/step - loss: 0.2938 - acc: 0.8927 - val_loss: 0.2506 - val_acc: 0.8952\n",
      "Epoch 25/100\n",
      "7465/7465 [==============================] - 1s 115us/step - loss: 0.2987 - acc: 0.8965 - val_loss: 0.2567 - val_acc: 0.8929\n",
      "Epoch 26/100\n",
      "7465/7465 [==============================] - 1s 105us/step - loss: 0.2845 - acc: 0.9048 - val_loss: 0.2442 - val_acc: 0.8980\n",
      "Epoch 27/100\n",
      "7465/7465 [==============================] - 1s 108us/step - loss: 0.2878 - acc: 0.9011 - val_loss: 0.2634 - val_acc: 0.8897\n",
      "Epoch 28/100\n",
      "7465/7465 [==============================] - 1s 98us/step - loss: 0.2840 - acc: 0.9040 - val_loss: 0.2688 - val_acc: 0.8874\n",
      "Epoch 29/100\n",
      "7465/7465 [==============================] - 1s 113us/step - loss: 0.2849 - acc: 0.8936 - val_loss: 0.2685 - val_acc: 0.8885\n",
      "Epoch 30/100\n",
      "7465/7465 [==============================] - 1s 104us/step - loss: 0.2793 - acc: 0.9042 - val_loss: 0.2957 - val_acc: 0.8748\n",
      "Epoch 31/100\n",
      "7465/7465 [==============================] - 1s 115us/step - loss: 0.2713 - acc: 0.9005 - val_loss: 0.2393 - val_acc: 0.9015\n",
      "Epoch 32/100\n",
      "7465/7465 [==============================] - 1s 114us/step - loss: 0.2628 - acc: 0.9090 - val_loss: 0.2398 - val_acc: 0.9023\n",
      "Epoch 33/100\n",
      "7465/7465 [==============================] - 1s 117us/step - loss: 0.2838 - acc: 0.9005 - val_loss: 0.2833 - val_acc: 0.8823\n",
      "Epoch 34/100\n",
      "7465/7465 [==============================] - 1s 116us/step - loss: 0.2656 - acc: 0.8991 - val_loss: 0.2281 - val_acc: 0.9050\n",
      "Epoch 35/100\n",
      "7465/7465 [==============================] - 1s 105us/step - loss: 0.2704 - acc: 0.9044 - val_loss: 0.2659 - val_acc: 0.8893\n",
      "Epoch 36/100\n",
      "7465/7465 [==============================] - 1s 115us/step - loss: 0.2612 - acc: 0.9069 - val_loss: 0.2697 - val_acc: 0.8881\n",
      "Epoch 37/100\n",
      "7465/7465 [==============================] - 1s 118us/step - loss: 0.2670 - acc: 0.8986 - val_loss: 0.2206 - val_acc: 0.9066\n",
      "Epoch 38/100\n",
      "7465/7465 [==============================] - 1s 117us/step - loss: 0.2650 - acc: 0.9037 - val_loss: 0.2102 - val_acc: 0.9097\n",
      "Epoch 39/100\n",
      "7465/7465 [==============================] - 1s 116us/step - loss: 0.2610 - acc: 0.9140 - val_loss: 0.2774 - val_acc: 0.8842\n",
      "Epoch 40/100\n",
      "7465/7465 [==============================] - 1s 132us/step - loss: 0.2606 - acc: 0.9025 - val_loss: 0.2642 - val_acc: 0.8901\n",
      "Epoch 41/100\n",
      "7465/7465 [==============================] - 1s 124us/step - loss: 0.2612 - acc: 0.9066 - val_loss: 0.2551 - val_acc: 0.8948\n",
      "Epoch 42/100\n",
      "7465/7465 [==============================] - 1s 124us/step - loss: 0.2654 - acc: 0.9077 - val_loss: 0.2145 - val_acc: 0.9093\n",
      "Epoch 43/100\n",
      "7465/7465 [==============================] - 1s 118us/step - loss: 0.2514 - acc: 0.9089 - val_loss: 0.2221 - val_acc: 0.9054\n",
      "Epoch 44/100\n",
      "7465/7465 [==============================] - 1s 118us/step - loss: 0.2492 - acc: 0.9133 - val_loss: 0.2220 - val_acc: 0.9046\n",
      "Epoch 45/100\n",
      "7465/7465 [==============================] - 1s 113us/step - loss: 0.2551 - acc: 0.9102 - val_loss: 0.2311 - val_acc: 0.9019\n",
      "Epoch 46/100\n",
      "7465/7465 [==============================] - 1s 108us/step - loss: 0.2380 - acc: 0.9127 - val_loss: 0.2413 - val_acc: 0.8991\n",
      "Epoch 47/100\n",
      "7465/7465 [==============================] - 1s 115us/step - loss: 0.2553 - acc: 0.9066 - val_loss: 0.2313 - val_acc: 0.9019\n",
      "Epoch 48/100\n",
      "7465/7465 [==============================] - 1s 111us/step - loss: 0.2462 - acc: 0.9077 - val_loss: 0.2251 - val_acc: 0.9035\n",
      "Epoch 49/100\n",
      "7465/7465 [==============================] - 1s 118us/step - loss: 0.2483 - acc: 0.9104 - val_loss: 0.2174 - val_acc: 0.9070\n",
      "Epoch 50/100\n",
      "7465/7465 [==============================] - 1s 121us/step - loss: 0.2402 - acc: 0.9086 - val_loss: 0.2183 - val_acc: 0.9070\n",
      "Epoch 51/100\n",
      "7465/7465 [==============================] - 1s 133us/step - loss: 0.2353 - acc: 0.9112 - val_loss: 0.1887 - val_acc: 0.9192\n",
      "Epoch 52/100\n",
      "7465/7465 [==============================] - 1s 123us/step - loss: 0.2365 - acc: 0.9139 - val_loss: 0.2217 - val_acc: 0.9046\n",
      "Epoch 53/100\n",
      "7465/7465 [==============================] - 1s 116us/step - loss: 0.2346 - acc: 0.9090 - val_loss: 0.2092 - val_acc: 0.9097\n",
      "Epoch 54/100\n",
      "7465/7465 [==============================] - 1s 103us/step - loss: 0.2437 - acc: 0.9156 - val_loss: 0.2174 - val_acc: 0.9074\n",
      "Epoch 55/100\n",
      "7465/7465 [==============================] - 1s 105us/step - loss: 0.2331 - acc: 0.9112 - val_loss: 0.2284 - val_acc: 0.9031\n",
      "Epoch 56/100\n",
      "7465/7465 [==============================] - 1s 89us/step - loss: 0.2334 - acc: 0.9148 - val_loss: 0.2241 - val_acc: 0.9054\n",
      "Epoch 57/100\n",
      "7465/7465 [==============================] - 1s 102us/step - loss: 0.2344 - acc: 0.9153 - val_loss: 0.2204 - val_acc: 0.9066\n",
      "Epoch 58/100\n",
      "7465/7465 [==============================] - 1s 102us/step - loss: 0.2236 - acc: 0.9135 - val_loss: 0.2207 - val_acc: 0.9062\n",
      "Epoch 59/100\n",
      "7465/7465 [==============================] - 1s 97us/step - loss: 0.2317 - acc: 0.9164 - val_loss: 0.2364 - val_acc: 0.9019\n",
      "Epoch 60/100\n"
     ]
    },
    {
     "name": "stdout",
     "output_type": "stream",
     "text": [
      "7465/7465 [==============================] - 1s 104us/step - loss: 0.2341 - acc: 0.9137 - val_loss: 0.2302 - val_acc: 0.9046\n",
      "Epoch 61/100\n",
      "7465/7465 [==============================] - 1s 109us/step - loss: 0.2375 - acc: 0.9156 - val_loss: 0.2168 - val_acc: 0.9066\n",
      "Epoch 62/100\n",
      "7465/7465 [==============================] - 1s 100us/step - loss: 0.2288 - acc: 0.9164 - val_loss: 0.2334 - val_acc: 0.9031\n",
      "Epoch 63/100\n",
      "7465/7465 [==============================] - 1s 96us/step - loss: 0.2275 - acc: 0.9148 - val_loss: 0.2594 - val_acc: 0.8932\n"
     ]
    }
   ],
   "source": [
    "early_stop = EarlyStopping(monitor='loss', patience=5)\n",
    "\n",
    "history = model.fit(\n",
    "        X_train_vectors, y_train_words, \n",
    "        validation_data=(X_val_vectors,y_val_words), \n",
    "        batch_size=32, \n",
    "        epochs=100,\n",
    "        class_weight=class_weights,\n",
    "        callbacks=[early_stop]\n",
    "        )"
   ]
  },
  {
   "cell_type": "code",
   "execution_count": 13,
   "id": "a54956cd",
   "metadata": {},
   "outputs": [
    {
     "data": {
      "image/png": "[encoded data removed]",
      "text/plain": [
       "<Figure size 432x288 with 1 Axes>"
      ]
     },
     "metadata": {
      "needs_background": "light"
     },
     "output_type": "display_data"
    },
    {
     "data": {
      "image/png": "[encoded data removed]",
      "text/plain": [
       "<Figure size 432x288 with 1 Axes>"
      ]
     },
     "metadata": {
      "needs_background": "light"
     },
     "output_type": "display_data"
    }
   ],
   "source": [
    "plt.figure()\n",
    "plt.plot(history.history['acc'])\n",
    "plt.plot(history.history['val_acc'])\n",
    "plt.title('model accuracy')\n",
    "plt.ylabel('accuracy')\n",
    "plt.xlabel('epoch')\n",
    "plt.legend(['train', 'val'], loc='upper left')\n",
    "plt.show()\n",
    "\n",
    "plt.figure()\n",
    "plt.plot(history.history['loss'])\n",
    "plt.plot(history.history['val_loss'])\n",
    "plt.title('model loss')\n",
    "plt.ylabel('loss')\n",
    "plt.xlabel('epoch')\n",
    "plt.legend(['train', 'val'], loc='upper left')\n",
    "plt.show()"
   ]
  },
  {
   "cell_type": "markdown",
   "id": "178e0f06",
   "metadata": {},
   "source": [
    "## Evaluate"
   ]
  },
  {
   "cell_type": "code",
   "execution_count": 14,
   "id": "1ed95288",
   "metadata": {},
   "outputs": [
    {
     "name": "stdout",
     "output_type": "stream",
     "text": [
      "              precision    recall  f1-score   support\n",
      "\n",
      "           0       1.00      0.89      0.94      2355\n",
      "           1       0.45      0.98      0.62       224\n",
      "\n",
      "    accuracy                           0.89      2579\n",
      "   macro avg       0.72      0.93      0.78      2579\n",
      "weighted avg       0.95      0.89      0.91      2579\n",
      "\n"
     ]
    }
   ],
   "source": [
    "from sklearn.metrics import classification_report\n",
    "\n",
    "y_pred = model.predict(X_test_vectors).squeeze()\n",
    "y_pred[y_pred >= 0.5] = 1\n",
    "y_pred[y_pred < 0.5] = 0\n",
    "\n",
    "print(classification_report(y_test_words,y_pred))"
   ]
  },
  {
   "cell_type": "markdown",
   "id": "af2db80d",
   "metadata": {},
   "source": [
    "# Inference"
   ]
  },
  {
   "cell_type": "code",
   "execution_count": null,
   "id": "89796803",
   "metadata": {},
   "outputs": [],
   "source": []
  },
  {
   "cell_type": "code",
   "execution_count": 15,
   "id": "4eacd4f9",
   "metadata": {
    "scrolled": true
   },
   "outputs": [
    {
     "data": {
      "text/plain": [
       "('nutmeg .', (300,))"
      ]
     },
     "execution_count": 15,
     "metadata": {},
     "output_type": "execute_result"
    }
   ],
   "source": [
    "def recipe_to_target_words(recipe):\n",
    "    \"\"\"\n",
    "        Create word list from recipe. Include 2-gram and 3-grams.\n",
    "    \"\"\"\n",
    "    words = nltk.word_tokenize(recipe)\n",
    "    #Create vector for each word\n",
    "    word_vectors = np.array([ft_model.get_word_vector(word) for word in words])\n",
    "\n",
    "    targets = []\n",
    "    for i in range(len(word_vectors)):    \n",
    "        \n",
    "        # Calculate mean vector for n-grams.\n",
    "        n_gram_1 = word_vectors[i:i+1].mean(axis=0)\n",
    "        n_gram_2 = word_vectors[i:i+2].mean(axis=0)    \n",
    "        n_gram_3 = word_vectors[i:i+3].mean(axis=0)\n",
    "    \n",
    "        targets.append((words[i], n_gram_1))\n",
    "        targets.append((' '.join(words[i:i+2]), n_gram_2))\n",
    "        targets.append((' '.join(words[i:i+3]), n_gram_3))\n",
    "    \n",
    "    return targets\n",
    "\n",
    "word,vec = recipe_to_target_words(X_test.iloc[0].Directions)[61]\n",
    "word, vec.shape"
   ]
  },
  {
   "cell_type": "code",
   "execution_count": 16,
   "id": "8fb9f96d",
   "metadata": {},
   "outputs": [
    {
     "data": {
      "text/plain": [
       "['apricot',\n",
       " 'apricot preserves',\n",
       " 'fruit',\n",
       " 'fruit cocktail',\n",
       " 'fruit cocktail and',\n",
       " 'cocktail',\n",
       " 'Dijon mustard',\n",
       " 'mustard',\n",
       " 'add nutmeg',\n",
       " 'nutmeg']"
      ]
     },
     "execution_count": 16,
     "metadata": {},
     "output_type": "execute_result"
    }
   ],
   "source": [
    "def predict(text):\n",
    "    \"\"\"\n",
    "        Prediction function\n",
    "    \"\"\"\n",
    "    # Get target word list\n",
    "    targets = recipe_to_target_words(text)\n",
    "    \n",
    "    # Seperate words and vectors\n",
    "    words = [t[0] for t in targets]\n",
    "    vecs = np.array([np.expand_dims(t[1],axis=1) for t in targets])\n",
    "    \n",
    "    # Create prediciton for each word or n-gram\n",
    "    y_pred = model.predict(vecs) \n",
    "    y_pred = np.squeeze(y_pred > 0.5).astype(int)\n",
    "    \n",
    "    result = []\n",
    "    for w,p in zip(words,y_pred):\n",
    "        # if prediction is 1 --> Ingredient. add to list\n",
    "        if p==1:\n",
    "            result.append(w)\n",
    "            \n",
    "    return result\n",
    "    \n",
    "predict(X_test.iloc[0].Directions)"
   ]
  },
  {
   "cell_type": "code",
   "execution_count": 17,
   "id": "f1ee7a4c",
   "metadata": {},
   "outputs": [],
   "source": [
    "from nltk.corpus import wordnet"
   ]
  },
  {
   "cell_type": "code",
   "execution_count": 18,
   "id": "d75dca14",
   "metadata": {},
   "outputs": [
    {
     "name": "stdout",
     "output_type": "stream",
     "text": [
      "['frost with lemon', 'lemon frosting', 'cake mix', 'Let cake', 'water', 'flour', 'pudding', 'bundt', 'Let cake cool', 'cake', 'with lemon frosting', 'sugar', 'Combine cake mix', 'lemon', 'eggs', 'frosting', 'oil', 'Combine cake', 'pudding mix', 'flour one', 'with lemon', 'cake cool']\n",
      "lemon,lemon,egg,water,vegetable oil\n"
     ]
    }
   ],
   "source": [
    "def post_filter(items):    \n",
    "    \"\"\"\n",
    "        Post filtering function of n-gram results. to have clear text\n",
    "    \"\"\"\n",
    "    \n",
    "    # Seperate multiple words by comma & \"and\" word\n",
    "    filtered = []\n",
    "    for f in items:\n",
    "        if ',' in f:\n",
    "            filtered += f.split(',')\n",
    "        if 'and' in f:\n",
    "            filtered += f.split('and')\n",
    "        if 'and' not in f and ',' not in f:\n",
    "            filtered.append(f)\n",
    "                        \n",
    "    filtered = list(set(filtered))        \n",
    "    filtered = [f.strip() for f in filtered if len(f) > 0]\n",
    "    \n",
    "    # SINGULARIZE plural words\n",
    "    filtered = [f if wordnet.morphy(f) is None else wordnet.morphy(f) for f in filtered]    \n",
    "    \n",
    "    # filter duplicate words by n-grams\n",
    "    filtered = sorted(filtered, key=lambda x: len(x.split()), reverse=True)    \n",
    "\n",
    "    \n",
    "    # remove single word of \"cup\"\n",
    "    ignore_items = [\"cup\"]\n",
    "    filtered = list(set(filtered) - set(ignore_items))   \n",
    "    \n",
    "    return filtered\n",
    "\n",
    "print(post_filter(predict(X_test.iloc[7].Directions)))\n",
    "print(X_test.iloc[7].Ingredients)"
   ]
  },
  {
   "cell_type": "code",
   "execution_count": 19,
   "id": "af367d41",
   "metadata": {},
   "outputs": [
    {
     "data": {
      "text/plain": [
       "['soda',\n",
       " 'brown',\n",
       " 'cinnamon',\n",
       " 'baking powder',\n",
       " 'milk',\n",
       " 'raisin',\n",
       " 'Add apple',\n",
       " 'flour',\n",
       " 'salt',\n",
       " 'combine flour',\n",
       " 'brown sugar',\n",
       " 'apple',\n",
       " 'powder',\n",
       " 'sugar',\n",
       " 'eggs',\n",
       " 'oil',\n",
       " 'nut',\n",
       " 'baking',\n",
       " 'nutmeg',\n",
       " 'oat',\n",
       " 'baking soda']"
      ]
     },
     "execution_count": 19,
     "metadata": {},
     "output_type": "execute_result"
    }
   ],
   "source": [
    "post_filter(predict('In a large bowl, combine flour, baking powder, baking soda, salt, cinnamon, nutmeg, brown sugar, and  oats. Add apple, nuts, raisins, eggs, milk, and oil.  Mix until dry ingredients are moistened.**Bake for 55 to 60 minutes, or until done.  Cool on wire rack.'))"
   ]
  },
  {
   "cell_type": "markdown",
   "id": "4db01e8d",
   "metadata": {},
   "source": [
    "# Calculate Positions from Text"
   ]
  },
  {
   "cell_type": "code",
   "execution_count": 20,
   "id": "03c23a00",
   "metadata": {},
   "outputs": [],
   "source": [
    "def create_result(text):\n",
    "    ingredients = post_filter(predict(text))\n",
    "    \n",
    "    matches = []\n",
    "    for item in ingredients:\n",
    "        matches += [[item, match.start(),match.end()] for match in re.finditer(item, text)]\n",
    "    \n",
    "    return matches"
   ]
  },
  {
   "cell_type": "code",
   "execution_count": 21,
   "id": "dbbee10d",
   "metadata": {},
   "outputs": [
    {
     "data": {
      "text/plain": [
       "[['soda', 54, 58],\n",
       " ['brown', 84, 89],\n",
       " ['cinnamon', 66, 74],\n",
       " ['baking powder', 32, 45],\n",
       " ['milk', 140, 144],\n",
       " ['raisin', 125, 131],\n",
       " ['Add apple', 108, 117],\n",
       " ['flour', 25, 30],\n",
       " ['salt', 60, 64],\n",
       " ['combine flour', 17, 30],\n",
       " ['brown sugar', 84, 95],\n",
       " ['apple', 112, 117],\n",
       " ['powder', 39, 45],\n",
       " ['sugar', 90, 95],\n",
       " ['eggs', 134, 138],\n",
       " ['oil', 150, 153],\n",
       " ['nut', 76, 79],\n",
       " ['nut', 119, 122],\n",
       " ['nut', 218, 221],\n",
       " ['baking', 32, 38],\n",
       " ['baking', 47, 53],\n",
       " ['nutmeg', 76, 82],\n",
       " ['oat', 102, 105],\n",
       " ['baking soda', 47, 58]]"
      ]
     },
     "execution_count": 21,
     "metadata": {},
     "output_type": "execute_result"
    }
   ],
   "source": [
    "create_result('In a large bowl, combine flour, baking powder, baking soda, salt, cinnamon, nutmeg, brown sugar, and  oats. Add apple, nuts, raisins, eggs, milk, and oil.  Mix until dry ingredients are moistened.**Bake for 55 to 60 minutes, or until done.  Cool on wire rack.')\n",
    "\n"
   ]
  },
  {
   "cell_type": "code",
   "execution_count": 23,
   "id": "1a4b33e8",
   "metadata": {},
   "outputs": [],
   "source": [
    "import tensorflow\n",
    "tensorflow.keras.models.save_model(model,\"model_1dcnn.h5\")"
   ]
  },
  {
   "cell_type": "code",
   "execution_count": null,
   "id": "990a98ba",
   "metadata": {},
   "outputs": [],
   "source": []
  },
  {
   "cell_type": "code",
   "execution_count": null,
   "id": "08ceef14",
   "metadata": {},
   "outputs": [],
   "source": []
  }
 ],
 "metadata": {
  "kernelspec": {
   "display_name": "Python 3",
   "language": "python",
   "name": "python3"
  },
  "language_info": {
   "codemirror_mode": {
    "name": "ipython",
    "version": 3
   },
   "file_extension": ".py",
   "mimetype": "text/x-python",
   "name": "python",
   "nbconvert_exporter": "python",
   "pygments_lexer": "ipython3",
   "version": "3.8.8"
  }
 },
 "nbformat": 4,
 "nbformat_minor": 5
}

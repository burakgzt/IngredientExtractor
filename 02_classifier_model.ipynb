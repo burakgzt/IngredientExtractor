{
 "cells": [
  {
   "cell_type": "code",
   "execution_count": 1,
   "id": "ad01f429",
   "metadata": {},
   "outputs": [],
   "source": [
    "import re\n",
    "import nltk\n",
    "import random\n",
    "import numpy as np\n",
    "import pandas as pd\n",
    "from tqdm import tqdm\n",
    "\n",
    "from matplotlib import pyplot as plt\n",
    "%matplotlib inline"
   ]
  },
  {
   "cell_type": "code",
   "execution_count": 2,
   "id": "c2632d3e",
   "metadata": {},
   "outputs": [
    {
     "name": "stderr",
     "output_type": "stream",
     "text": [
      "[nltk_data] Downloading package punkt to\n",
      "[nltk_data]     /Users/burakgozutok/nltk_data...\n",
      "[nltk_data]   Package punkt is already up-to-date!\n",
      "[nltk_data] Downloading package wordnet to\n",
      "[nltk_data]     /Users/burakgozutok/nltk_data...\n",
      "[nltk_data]   Package wordnet is already up-to-date!\n"
     ]
    },
    {
     "data": {
      "text/plain": [
       "True"
      ]
     },
     "execution_count": 2,
     "metadata": {},
     "output_type": "execute_result"
    }
   ],
   "source": [
    "nltk.download('punkt')\n",
    "nltk.download('wordnet')"
   ]
  },
  {
   "cell_type": "markdown",
   "id": "13664892",
   "metadata": {},
   "source": [
    "# 1. Read Data"
   ]
  },
  {
   "cell_type": "code",
   "execution_count": 3,
   "id": "877a67b1",
   "metadata": {},
   "outputs": [
    {
     "data": {
      "text/html": [
       "<div>\n",
       "<style scoped>\n",
       "    .dataframe tbody tr th:only-of-type {\n",
       "        vertical-align: middle;\n",
       "    }\n",
       "\n",
       "    .dataframe tbody tr th {\n",
       "        vertical-align: top;\n",
       "    }\n",
       "\n",
       "    .dataframe thead th {\n",
       "        text-align: right;\n",
       "    }\n",
       "</style>\n",
       "<table border=\"1\" class=\"dataframe\">\n",
       "  <thead>\n",
       "    <tr style=\"text-align: right;\">\n",
       "      <th></th>\n",
       "      <th>Recipe Name</th>\n",
       "      <th>Review Count</th>\n",
       "      <th>Recipe Photo</th>\n",
       "      <th>Author</th>\n",
       "      <th>Prepare Time</th>\n",
       "      <th>Cook Time</th>\n",
       "      <th>Total Time</th>\n",
       "      <th>Ingredients</th>\n",
       "      <th>Directions</th>\n",
       "      <th>RecipeID</th>\n",
       "    </tr>\n",
       "  </thead>\n",
       "  <tbody>\n",
       "    <tr>\n",
       "      <th>0</th>\n",
       "      <td>Golden Crescent Rolls Recipe</td>\n",
       "      <td>304</td>\n",
       "      <td>https://images.media-allrecipes.com/userphotos...</td>\n",
       "      <td>Mike A.</td>\n",
       "      <td>25 m</td>\n",
       "      <td>15 m</td>\n",
       "      <td>3 h 10 m</td>\n",
       "      <td>yeast,water,white sugar,salt,egg,butter,flour,...</td>\n",
       "      <td>Dissolve yeast in warm water. Stir in sugar, s...</td>\n",
       "      <td>7000</td>\n",
       "    </tr>\n",
       "    <tr>\n",
       "      <th>1</th>\n",
       "      <td>Poppy Seed Bread with Glaze Recipe</td>\n",
       "      <td>137</td>\n",
       "      <td>https://images.media-allrecipes.com/userphotos...</td>\n",
       "      <td>Christina Jun</td>\n",
       "      <td>15 m</td>\n",
       "      <td>1 h</td>\n",
       "      <td>1 h 20 m</td>\n",
       "      <td>flour,salt,baking powder,poppy,butter,vegetabl...</td>\n",
       "      <td>'Preheat oven to 350 degrees F (175 degrees C)...</td>\n",
       "      <td>7001</td>\n",
       "    </tr>\n",
       "  </tbody>\n",
       "</table>\n",
       "</div>"
      ],
      "text/plain": [
       "                           Recipe Name Review Count  \\\n",
       "0        Golden Crescent Rolls Recipe           304   \n",
       "1  Poppy Seed Bread with Glaze Recipe           137   \n",
       "\n",
       "                                        Recipe Photo         Author  \\\n",
       "0  https://images.media-allrecipes.com/userphotos...        Mike A.   \n",
       "1  https://images.media-allrecipes.com/userphotos...  Christina Jun   \n",
       "\n",
       "  Prepare Time Cook Time Total Time  \\\n",
       "0         25 m      15 m   3 h 10 m   \n",
       "1         15 m       1 h   1 h 20 m   \n",
       "\n",
       "                                         Ingredients  \\\n",
       "0  yeast,water,white sugar,salt,egg,butter,flour,...   \n",
       "1  flour,salt,baking powder,poppy,butter,vegetabl...   \n",
       "\n",
       "                                          Directions  RecipeID  \n",
       "0  Dissolve yeast in warm water. Stir in sugar, s...      7000  \n",
       "1  'Preheat oven to 350 degrees F (175 degrees C)...      7001  "
      ]
     },
     "execution_count": 3,
     "metadata": {},
     "output_type": "execute_result"
    }
   ],
   "source": [
    "df = pd.read_csv('recipes.csv', delimiter=';')\n",
    "\n",
    "# Filter nan columns for Ingredients and Directions\n",
    "df = df[df['Ingredients'].notnull()]\n",
    "df = df[df['Directions'].notnull()]\n",
    "df.Directions = df.Directions.apply(lambda x: x.replace('**', ' '))\n",
    "\n",
    "df.head(2)"
   ]
  },
  {
   "cell_type": "markdown",
   "id": "44d91b36",
   "metadata": {},
   "source": [
    "#### Create List of Words from Ingredients and recipies"
   ]
  },
  {
   "cell_type": "code",
   "execution_count": 4,
   "id": "3cb8ec25",
   "metadata": {},
   "outputs": [
    {
     "name": "stderr",
     "output_type": "stream",
     "text": [
      "100%|██████████| 12345/12345 [00:09<00:00, 1357.05it/s]\n"
     ]
    },
    {
     "data": {
      "text/plain": [
       "(1245567, 942)"
      ]
     },
     "execution_count": 4,
     "metadata": {},
     "output_type": "execute_result"
    }
   ],
   "source": [
    "ingredients_all = list(set([item for row in df.Ingredients for item in row.split(',') if len(item) > 0]))\n",
    "words_all = [word for row in tqdm(df.Directions.to_list()) for word in nltk.word_tokenize(row)]\n",
    "\n",
    "len(words_all), len(ingredients_all)"
   ]
  },
  {
   "cell_type": "code",
   "execution_count": null,
   "id": "12cbd3ba",
   "metadata": {},
   "outputs": [],
   "source": []
  },
  {
   "cell_type": "markdown",
   "id": "d2d3c1d2",
   "metadata": {},
   "source": [
    "# 2. Prepare Data for Model"
   ]
  },
  {
   "cell_type": "markdown",
   "id": "063e7985",
   "metadata": {},
   "source": [
    "#### Train Test Split"
   ]
  },
  {
   "cell_type": "code",
   "execution_count": 30,
   "id": "4cea3378",
   "metadata": {},
   "outputs": [
    {
     "data": {
      "text/plain": [
       "(9876, 1234, 1235)"
      ]
     },
     "execution_count": 30,
     "metadata": {},
     "output_type": "execute_result"
    }
   ],
   "source": [
    "from sklearn.model_selection import train_test_split\n",
    "X_train, X_val = train_test_split(df, test_size=0.2, random_state=42)\n",
    "X_val, X_test = train_test_split(X_val, test_size=0.5, random_state=42)\n",
    "\n",
    "len(X_train), len(X_val), len(X_test)"
   ]
  },
  {
   "cell_type": "markdown",
   "id": "a187032d",
   "metadata": {},
   "source": [
    "#### Split Ingredients and recipes to words seperately for train,test,val"
   ]
  },
  {
   "cell_type": "code",
   "execution_count": 31,
   "id": "d60e10d9",
   "metadata": {},
   "outputs": [
    {
     "name": "stderr",
     "output_type": "stream",
     "text": [
      "100%|██████████| 9876/9876 [00:07<00:00, 1353.07it/s]\n",
      "100%|██████████| 1234/1234 [00:00<00:00, 1403.06it/s]\n",
      "100%|██████████| 1235/1235 [00:00<00:00, 1408.06it/s]\n"
     ]
    }
   ],
   "source": [
    "def parse_df(df):\n",
    "    ingredients_all = list(set([item for row in df.Ingredients for item in row.split(',') if (len(item) > 0 and \" \" not in item)]))\n",
    "    words_all = list(set([word for row in tqdm(df.Directions.to_list()) for word in nltk.word_tokenize(row)]))\n",
    "    \n",
    "    #Put label 0 to normal words and 1 to ingredients.\n",
    "    words_0 = list(set(words_all) - set(ingredients_all))\n",
    "    words_1 = ingredients_all\n",
    "    \n",
    "    # Combine 0s and 1s\n",
    "    x = words_0 + words_1\n",
    "    y = [0 for i in range(len(words_0))] + [1 for i in range(len(words_0))]\n",
    "    \n",
    "    # Shuffle data\n",
    "    c = list(zip(x, y))\n",
    "    random.shuffle(c)\n",
    "    x, y = zip(*c)\n",
    "    \n",
    "    assert len(x) == len(y)\n",
    "    return x,y\n",
    "\n",
    "X_train_words, y_train_words = parse_df(X_train)\n",
    "X_val_words, y_val_words = parse_df(X_val)\n",
    "X_test_words, y_test_words = parse_df(X_test)"
   ]
  },
  {
   "cell_type": "code",
   "execution_count": null,
   "id": "087fa0a5",
   "metadata": {},
   "outputs": [],
   "source": []
  },
  {
   "cell_type": "markdown",
   "id": "e2e64ffd",
   "metadata": {},
   "source": [
    "# Vectorize Text"
   ]
  },
  {
   "cell_type": "code",
   "execution_count": 32,
   "id": "277ef774",
   "metadata": {},
   "outputs": [
    {
     "name": "stderr",
     "output_type": "stream",
     "text": [
      "Warning : `load_model` does not return WordVectorModel or SupervisedModel any more, but a `FastText` object which is very similar.\n"
     ]
    }
   ],
   "source": [
    "# Load FastText Model\n",
    "#\n",
    "import fasttext.util\n",
    "fasttext.util.download_model('en', if_exists='ignore')  # English\n",
    "ft_model = fasttext.load_model('cc.en.300.bin')"
   ]
  },
  {
   "cell_type": "code",
   "execution_count": 33,
   "id": "f1a1ca50",
   "metadata": {},
   "outputs": [
    {
     "data": {
      "text/plain": [
       "((7155, 300, 1), (3344, 300, 1), (3345, 300, 1))"
      ]
     },
     "execution_count": 33,
     "metadata": {},
     "output_type": "execute_result"
    }
   ],
   "source": [
    "# Vectorize Words\n",
    "# \n",
    "X_train_vectors = [ft_model.get_sentence_vector(x) for x in X_train_words]\n",
    "X_val_vectors = [ft_model.get_sentence_vector(x) for x in X_val_words]\n",
    "X_test_vectors = [ft_model.get_sentence_vector(x) for x in X_test_words]\n",
    "\n",
    "X_train_vectors = np.expand_dims(np.array(X_train_vectors), axis=2)\n",
    "X_val_vectors = np.expand_dims(np.array(X_val_vectors), axis=2)\n",
    "X_test_vectors = np.expand_dims(np.array(X_test_vectors), axis=2)\n",
    "\n",
    "y_train_words = np.array(y_train_words)\n",
    "y_val_words = np.array(y_val_words)\n",
    "y_test_words = np.array(y_test_words)\n",
    "\n",
    "X_train_vectors.shape, X_val_vectors.shape, X_test_vectors.shape"
   ]
  },
  {
   "cell_type": "code",
   "execution_count": null,
   "id": "b81081cc",
   "metadata": {},
   "outputs": [],
   "source": []
  },
  {
   "cell_type": "markdown",
   "id": "5486966e",
   "metadata": {},
   "source": [
    "# 1D CNN Model"
   ]
  },
  {
   "cell_type": "code",
   "execution_count": 34,
   "id": "f88c1ce1",
   "metadata": {},
   "outputs": [],
   "source": [
    "from tensorflow.keras import optimizers\n",
    "from tensorflow.keras.models import Sequential\n",
    "from tensorflow.keras.layers import Dense, Dropout, Flatten\n",
    "from tensorflow.keras.layers import Conv1D, MaxPooling1D\n",
    "\n",
    "from tensorflow.keras.callbacks import EarlyStopping"
   ]
  },
  {
   "cell_type": "markdown",
   "id": "f49515a0",
   "metadata": {},
   "source": [
    "### Create Model and show summary"
   ]
  },
  {
   "cell_type": "code",
   "execution_count": 35,
   "id": "8978a4e3",
   "metadata": {},
   "outputs": [
    {
     "name": "stdout",
     "output_type": "stream",
     "text": [
      "_________________________________________________________________\n",
      "Layer (type)                 Output Shape              Param #   \n",
      "=================================================================\n",
      "conv1d_2 (Conv1D)            (None, 293, 16)           144       \n",
      "_________________________________________________________________\n",
      "max_pooling1d_2 (MaxPooling1 (None, 146, 16)           0         \n",
      "_________________________________________________________________\n",
      "flatten_2 (Flatten)          (None, 2336)              0         \n",
      "_________________________________________________________________\n",
      "dropout_2 (Dropout)          (None, 2336)              0         \n",
      "_________________________________________________________________\n",
      "dense_4 (Dense)              (None, 16)                37392     \n",
      "_________________________________________________________________\n",
      "dense_5 (Dense)              (None, 1)                 17        \n",
      "=================================================================\n",
      "Total params: 37,553\n",
      "Trainable params: 37,553\n",
      "Non-trainable params: 0\n",
      "_________________________________________________________________\n"
     ]
    }
   ],
   "source": [
    "model = Sequential()\n",
    "model.add(Conv1D(filters=16, kernel_size=8, activation='relu',input_shape=(300,1)))\n",
    "model.add(MaxPooling1D(pool_size=2))\n",
    "model.add(Flatten())\n",
    "model.add(Dropout(0.5))\n",
    "model.add(Dense(16, activation='relu'))\n",
    "model.add(Dense(1, activation='sigmoid'))\n",
    "\n",
    "adam = optimizers.Adam(lr=0.0001)\n",
    "model.compile(loss='binary_crossentropy', optimizer=adam, metrics=['accuracy'])\n",
    "model.summary()"
   ]
  },
  {
   "cell_type": "markdown",
   "id": "01a44c4d",
   "metadata": {},
   "source": [
    "### Calculate Class Weights for the imbalance"
   ]
  },
  {
   "cell_type": "code",
   "execution_count": 36,
   "id": "1bd49c6a",
   "metadata": {},
   "outputs": [
    {
     "data": {
      "text/plain": [
       "{0: 0.5257936507936508, 1: 10.192307692307692}"
      ]
     },
     "execution_count": 36,
     "metadata": {},
     "output_type": "execute_result"
    }
   ],
   "source": [
    "from sklearn.utils import class_weight\n",
    "class_weights = dict(zip(np.unique(y_train_words), class_weight.compute_class_weight('balanced', np.unique(y_train_words), \n",
    "                y_train_words))) \n",
    "class_weights"
   ]
  },
  {
   "cell_type": "markdown",
   "id": "c837d06e",
   "metadata": {},
   "source": [
    "### Train Model"
   ]
  },
  {
   "cell_type": "code",
   "execution_count": 37,
   "id": "d2e305fa",
   "metadata": {
    "scrolled": true
   },
   "outputs": [
    {
     "name": "stdout",
     "output_type": "stream",
     "text": [
      "Train on 7155 samples, validate on 3344 samples\n",
      "Epoch 1/100\n",
      "7155/7155 [==============================] - 1s 137us/step - loss: 0.6761 - acc: 0.9017 - val_loss: 0.6027 - val_acc: 0.9351\n",
      "Epoch 2/100\n",
      "7155/7155 [==============================] - 1s 97us/step - loss: 0.6187 - acc: 0.9515 - val_loss: 0.4903 - val_acc: 0.9396\n",
      "Epoch 3/100\n",
      "7155/7155 [==============================] - 1s 97us/step - loss: 0.5646 - acc: 0.9393 - val_loss: 0.4869 - val_acc: 0.8974\n",
      "Epoch 4/100\n",
      "7155/7155 [==============================] - 1s 99us/step - loss: 0.5121 - acc: 0.9034 - val_loss: 0.4608 - val_acc: 0.8735\n",
      "Epoch 5/100\n",
      "7155/7155 [==============================] - 1s 118us/step - loss: 0.4703 - acc: 0.8997 - val_loss: 0.3549 - val_acc: 0.9073\n",
      "Epoch 6/100\n",
      "7155/7155 [==============================] - 1s 83us/step - loss: 0.4368 - acc: 0.8964 - val_loss: 0.3710 - val_acc: 0.8792\n",
      "Epoch 7/100\n",
      "7155/7155 [==============================] - 1s 88us/step - loss: 0.4086 - acc: 0.8948 - val_loss: 0.3748 - val_acc: 0.8672\n",
      "Epoch 8/100\n",
      "7155/7155 [==============================] - 1s 84us/step - loss: 0.3941 - acc: 0.8758 - val_loss: 0.3365 - val_acc: 0.8762\n",
      "Epoch 9/100\n",
      "7155/7155 [==============================] - 1s 108us/step - loss: 0.3831 - acc: 0.8809 - val_loss: 0.2724 - val_acc: 0.9001\n",
      "Epoch 10/100\n",
      "7155/7155 [==============================] - 1s 89us/step - loss: 0.3685 - acc: 0.8818 - val_loss: 0.2839 - val_acc: 0.8920\n",
      "Epoch 11/100\n",
      "7155/7155 [==============================] - 1s 105us/step - loss: 0.3603 - acc: 0.8805 - val_loss: 0.3289 - val_acc: 0.8699\n",
      "Epoch 12/100\n",
      "7155/7155 [==============================] - 1s 96us/step - loss: 0.3550 - acc: 0.8853 - val_loss: 0.2666 - val_acc: 0.8950\n",
      "Epoch 13/100\n",
      "7155/7155 [==============================] - 1s 97us/step - loss: 0.3382 - acc: 0.8864 - val_loss: 0.3161 - val_acc: 0.8732\n",
      "Epoch 14/100\n",
      "7155/7155 [==============================] - 1s 87us/step - loss: 0.3430 - acc: 0.8809 - val_loss: 0.3008 - val_acc: 0.8783\n",
      "Epoch 15/100\n",
      "7155/7155 [==============================] - 1s 102us/step - loss: 0.3319 - acc: 0.8855 - val_loss: 0.2580 - val_acc: 0.8944\n",
      "Epoch 16/100\n",
      "7155/7155 [==============================] - 1s 91us/step - loss: 0.3334 - acc: 0.8875 - val_loss: 0.2728 - val_acc: 0.8882\n",
      "Epoch 17/100\n",
      "7155/7155 [==============================] - 1s 107us/step - loss: 0.3289 - acc: 0.8913 - val_loss: 0.2728 - val_acc: 0.8873\n",
      "Epoch 18/100\n",
      "7155/7155 [==============================] - 1s 115us/step - loss: 0.3240 - acc: 0.8871 - val_loss: 0.2244 - val_acc: 0.9100\n",
      "Epoch 19/100\n",
      "7155/7155 [==============================] - 1s 82us/step - loss: 0.3152 - acc: 0.8906 - val_loss: 0.3009 - val_acc: 0.8780\n",
      "Epoch 20/100\n",
      "7155/7155 [==============================] - 1s 88us/step - loss: 0.3154 - acc: 0.8879 - val_loss: 0.2360 - val_acc: 0.9025\n",
      "Epoch 21/100\n",
      "7155/7155 [==============================] - 1s 85us/step - loss: 0.3216 - acc: 0.8846 - val_loss: 0.2160 - val_acc: 0.9136\n",
      "Epoch 22/100\n",
      "7155/7155 [==============================] - 1s 83us/step - loss: 0.3065 - acc: 0.8992 - val_loss: 0.2650 - val_acc: 0.8914\n",
      "Epoch 23/100\n",
      "7155/7155 [==============================] - 1s 81us/step - loss: 0.2952 - acc: 0.8935 - val_loss: 0.2338 - val_acc: 0.9022\n",
      "Epoch 24/100\n",
      "7155/7155 [==============================] - 1s 80us/step - loss: 0.2941 - acc: 0.8970 - val_loss: 0.2765 - val_acc: 0.8876\n",
      "Epoch 25/100\n",
      "7155/7155 [==============================] - 1s 80us/step - loss: 0.2941 - acc: 0.8874 - val_loss: 0.2499 - val_acc: 0.8950\n",
      "Epoch 26/100\n",
      "7155/7155 [==============================] - 1s 80us/step - loss: 0.2852 - acc: 0.9002 - val_loss: 0.2647 - val_acc: 0.8903\n",
      "Epoch 27/100\n",
      "7155/7155 [==============================] - 1s 80us/step - loss: 0.2968 - acc: 0.8955 - val_loss: 0.2615 - val_acc: 0.8914\n",
      "Epoch 28/100\n",
      "7155/7155 [==============================] - 1s 80us/step - loss: 0.2932 - acc: 0.8969 - val_loss: 0.2618 - val_acc: 0.8908\n",
      "Epoch 29/100\n",
      "7155/7155 [==============================] - 1s 83us/step - loss: 0.2885 - acc: 0.8994 - val_loss: 0.2607 - val_acc: 0.8914\n",
      "Epoch 30/100\n",
      "7155/7155 [==============================] - 1s 80us/step - loss: 0.2930 - acc: 0.8918 - val_loss: 0.2340 - val_acc: 0.9037\n",
      "Epoch 31/100\n",
      "7155/7155 [==============================] - 1s 80us/step - loss: 0.2837 - acc: 0.8942 - val_loss: 0.2486 - val_acc: 0.8977\n",
      "Epoch 32/100\n",
      "7155/7155 [==============================] - 1s 80us/step - loss: 0.2779 - acc: 0.9058 - val_loss: 0.2711 - val_acc: 0.8879\n",
      "Epoch 33/100\n",
      "7155/7155 [==============================] - 1s 80us/step - loss: 0.2847 - acc: 0.8974 - val_loss: 0.2367 - val_acc: 0.9034\n",
      "Epoch 34/100\n",
      "7155/7155 [==============================] - 1s 80us/step - loss: 0.2747 - acc: 0.9029 - val_loss: 0.2326 - val_acc: 0.9037\n",
      "Epoch 35/100\n",
      "7155/7155 [==============================] - 1s 80us/step - loss: 0.2710 - acc: 0.9015 - val_loss: 0.2144 - val_acc: 0.9121\n",
      "Epoch 36/100\n",
      "7155/7155 [==============================] - 1s 80us/step - loss: 0.2752 - acc: 0.8976 - val_loss: 0.2303 - val_acc: 0.9049\n",
      "Epoch 37/100\n",
      "7155/7155 [==============================] - 1s 80us/step - loss: 0.2663 - acc: 0.9033 - val_loss: 0.2426 - val_acc: 0.9010\n",
      "Epoch 38/100\n",
      "7155/7155 [==============================] - 1s 80us/step - loss: 0.2713 - acc: 0.9052 - val_loss: 0.2484 - val_acc: 0.8986\n",
      "Epoch 39/100\n",
      "7155/7155 [==============================] - 1s 82us/step - loss: 0.2611 - acc: 0.9040 - val_loss: 0.2113 - val_acc: 0.9133\n",
      "Epoch 40/100\n",
      "7155/7155 [==============================] - 1s 86us/step - loss: 0.2693 - acc: 0.9066 - val_loss: 0.2091 - val_acc: 0.9148\n",
      "Epoch 41/100\n",
      "7155/7155 [==============================] - 1s 105us/step - loss: 0.2647 - acc: 0.9087 - val_loss: 0.2390 - val_acc: 0.9028\n",
      "Epoch 42/100\n",
      "7155/7155 [==============================] - 1s 105us/step - loss: 0.2622 - acc: 0.9012 - val_loss: 0.2246 - val_acc: 0.9088\n",
      "Epoch 43/100\n",
      "7155/7155 [==============================] - 1s 110us/step - loss: 0.2660 - acc: 0.9044 - val_loss: 0.2449 - val_acc: 0.9010\n",
      "Epoch 44/100\n",
      "7155/7155 [==============================] - 1s 119us/step - loss: 0.2540 - acc: 0.9044 - val_loss: 0.2280 - val_acc: 0.9070\n",
      "Epoch 45/100\n",
      "7155/7155 [==============================] - 1s 128us/step - loss: 0.2541 - acc: 0.9093 - val_loss: 0.2255 - val_acc: 0.9082\n",
      "Epoch 46/100\n",
      "7155/7155 [==============================] - 1s 105us/step - loss: 0.2612 - acc: 0.9072 - val_loss: 0.2359 - val_acc: 0.9046\n",
      "Epoch 47/100\n",
      "7155/7155 [==============================] - 1s 100us/step - loss: 0.2551 - acc: 0.9113 - val_loss: 0.2217 - val_acc: 0.9106\n",
      "Epoch 48/100\n",
      "7155/7155 [==============================] - 1s 87us/step - loss: 0.2625 - acc: 0.9054 - val_loss: 0.2292 - val_acc: 0.9082\n",
      "Epoch 49/100\n",
      "7155/7155 [==============================] - 1s 111us/step - loss: 0.2557 - acc: 0.9101 - val_loss: 0.2848 - val_acc: 0.8846\n"
     ]
    }
   ],
   "source": [
    "early_stop = EarlyStopping(monitor='loss', patience=5)\n",
    "\n",
    "history = model.fit(\n",
    "        X_train_vectors, y_train_words, \n",
    "        validation_data=(X_val_vectors,y_val_words), \n",
    "        batch_size=32, \n",
    "        epochs=100,\n",
    "        class_weight=class_weights,\n",
    "        callbacks=[early_stop]\n",
    "        )"
   ]
  },
  {
   "cell_type": "code",
   "execution_count": 38,
   "id": "a54956cd",
   "metadata": {},
   "outputs": [
    {
     "data": {
      "image/png": "[encoded data removed]",
      "text/plain": [
       "<Figure size 432x288 with 1 Axes>"
      ]
     },
     "metadata": {
      "needs_background": "light"
     },
     "output_type": "display_data"
    },
    {
     "data": {
      "image/png": "[encoded data removed]",
      "text/plain": [
       "<Figure size 432x288 with 1 Axes>"
      ]
     },
     "metadata": {
      "needs_background": "light"
     },
     "output_type": "display_data"
    }
   ],
   "source": [
    "plt.figure()\n",
    "plt.plot(history.history['acc'])\n",
    "plt.plot(history.history['val_acc'])\n",
    "plt.title('model accuracy')\n",
    "plt.ylabel('accuracy')\n",
    "plt.xlabel('epoch')\n",
    "plt.legend(['train', 'val'], loc='upper left')\n",
    "plt.show()\n",
    "\n",
    "plt.figure()\n",
    "plt.plot(history.history['loss'])\n",
    "plt.plot(history.history['val_loss'])\n",
    "plt.title('model loss')\n",
    "plt.ylabel('loss')\n",
    "plt.xlabel('epoch')\n",
    "plt.legend(['train', 'val'], loc='upper left')\n",
    "plt.show()"
   ]
  },
  {
   "cell_type": "markdown",
   "id": "178e0f06",
   "metadata": {},
   "source": [
    "## Evaluate"
   ]
  },
  {
   "cell_type": "code",
   "execution_count": 39,
   "id": "1ed95288",
   "metadata": {},
   "outputs": [
    {
     "name": "stdout",
     "output_type": "stream",
     "text": [
      "              precision    recall  f1-score   support\n",
      "\n",
      "           0       1.00      0.87      0.93      3071\n",
      "           1       0.40      0.96      0.56       274\n",
      "\n",
      "    accuracy                           0.88      3345\n",
      "   macro avg       0.70      0.92      0.75      3345\n",
      "weighted avg       0.95      0.88      0.90      3345\n",
      "\n"
     ]
    }
   ],
   "source": [
    "from sklearn.metrics import classification_report\n",
    "\n",
    "y_pred = model.predict(X_test_vectors).squeeze()\n",
    "y_pred[y_pred >= 0.5] = 1\n",
    "y_pred[y_pred < 0.5] = 0\n",
    "\n",
    "print(classification_report(y_test_words,y_pred))"
   ]
  },
  {
   "cell_type": "markdown",
   "id": "af2db80d",
   "metadata": {},
   "source": [
    "# Inference"
   ]
  },
  {
   "cell_type": "code",
   "execution_count": null,
   "id": "89796803",
   "metadata": {},
   "outputs": [],
   "source": []
  },
  {
   "cell_type": "code",
   "execution_count": 40,
   "id": "4eacd4f9",
   "metadata": {
    "scrolled": true
   },
   "outputs": [
    {
     "data": {
      "text/plain": [
       "('well blended', (300,))"
      ]
     },
     "execution_count": 40,
     "metadata": {},
     "output_type": "execute_result"
    }
   ],
   "source": [
    "def recipe_to_target_words(recipe):\n",
    "    \"\"\"\n",
    "        Create word list from recipe. Include 2-gram and 3-grams.\n",
    "    \"\"\"\n",
    "    words = nltk.word_tokenize(recipe)\n",
    "    #Create vector for each word\n",
    "    word_vectors = np.array([ft_model.get_word_vector(word) for word in words])\n",
    "\n",
    "    targets = []\n",
    "    for i in range(len(word_vectors)):    \n",
    "        \n",
    "        # Calculate mean vector for n-grams.\n",
    "        n_gram_1 = word_vectors[i:i+1].mean(axis=0)\n",
    "        n_gram_2 = word_vectors[i:i+2].mean(axis=0)    \n",
    "        n_gram_3 = word_vectors[i:i+3].mean(axis=0)\n",
    "    \n",
    "        targets.append((words[i], n_gram_1))\n",
    "        targets.append((' '.join(words[i:i+2]), n_gram_2))\n",
    "        targets.append((' '.join(words[i:i+3]), n_gram_3))\n",
    "    \n",
    "    return targets\n",
    "\n",
    "word,vec = recipe_to_target_words(X_test.iloc[0].Directions)[61]\n",
    "word, vec.shape"
   ]
  },
  {
   "cell_type": "code",
   "execution_count": 41,
   "id": "8fb9f96d",
   "metadata": {},
   "outputs": [
    {
     "data": {
      "text/plain": [
       "['molasses',\n",
       " ', brown sugar',\n",
       " 'brown',\n",
       " 'brown sugar',\n",
       " 'brown sugar ,',\n",
       " 'sugar',\n",
       " 'sugar , baking',\n",
       " ', baking soda',\n",
       " 'baking',\n",
       " 'baking soda',\n",
       " 'baking soda ,',\n",
       " 'soda',\n",
       " 'soda ,',\n",
       " 'soda , ginger',\n",
       " 'ginger',\n",
       " 'ginger and cinnamon',\n",
       " 'cinnamon',\n",
       " 'cinnamon until',\n",
       " '1/4 cup',\n",
       " 'cup',\n",
       " 'coffee',\n",
       " 'cup',\n",
       " 'tablespoon',\n",
       " 'the spice',\n",
       " 'the spice mixture',\n",
       " 'spice',\n",
       " 'spice mixture',\n",
       " 'spice mixture until',\n",
       " 'Fill cup',\n",
       " 'cup',\n",
       " 'coffee',\n",
       " 'taste',\n",
       " 'garnish',\n",
       " 'whipped cream',\n",
       " 'cream',\n",
       " 'cloves']"
      ]
     },
     "execution_count": 41,
     "metadata": {},
     "output_type": "execute_result"
    }
   ],
   "source": [
    "def predict(text):\n",
    "    \"\"\"\n",
    "        Prediction function\n",
    "    \"\"\"\n",
    "    # Get target word list\n",
    "    targets = recipe_to_target_words(text)\n",
    "    \n",
    "    # Seperate words and vectors\n",
    "    words = [t[0] for t in targets]\n",
    "    vecs = np.array([np.expand_dims(t[1],axis=1) for t in targets])\n",
    "    \n",
    "    # Create prediciton for each word or n-gram\n",
    "    y_pred = model.predict(vecs) \n",
    "    y_pred = np.squeeze(y_pred > 0.5).astype(int)\n",
    "    \n",
    "    result = []\n",
    "    for w,p in zip(words,y_pred):\n",
    "        # if prediction is 1 --> Ingredient. add to list\n",
    "        if p==1:\n",
    "            result.append(w)\n",
    "            \n",
    "    return result\n",
    "    \n",
    "predict(X_test.iloc[0].Directions)"
   ]
  },
  {
   "cell_type": "code",
   "execution_count": 42,
   "id": "f1ee7a4c",
   "metadata": {},
   "outputs": [],
   "source": [
    "from nltk.corpus import wordnet"
   ]
  },
  {
   "cell_type": "code",
   "execution_count": 43,
   "id": "d75dca14",
   "metadata": {},
   "outputs": [
    {
     "name": "stdout",
     "output_type": "stream",
     "text": [
      "['heavy cream', 'vanilla', 'cream', 'Irish whiskey', 'whiskey', 'almond', 'syrup', 'milk', 'chocolate', 'extract', 'almond extract', 'vanilla extract', 'container', 'combine heavy cream', 'Irish', 'coffee', 'chocolate syrup', 'condensed milk', 'sweetened condensed milk']\n",
      "cream,milk,whiskey,coffee,chocolate,vanilla,almond\n"
     ]
    }
   ],
   "source": [
    "def post_filter(items):    \n",
    "    \"\"\"\n",
    "        Post filtering function of n-gram results. to have clear text\n",
    "    \"\"\"\n",
    "    \n",
    "    # Seperate multiple words by comma & \"and\" word\n",
    "    filtered = []\n",
    "    for f in items:\n",
    "        if ',' in f:\n",
    "            filtered += f.split(',')\n",
    "        if 'and' in f:\n",
    "            filtered += f.split('and')\n",
    "        if 'and' not in f and ',' not in f:\n",
    "            filtered.append(f)\n",
    "                        \n",
    "    filtered = list(set(filtered))        \n",
    "    filtered = [f.strip() for f in filtered if len(f) > 0]\n",
    "    \n",
    "    # SINGULARIZE plural words\n",
    "    filtered = [f if wordnet.morphy(f) is None else wordnet.morphy(f) for f in filtered]    \n",
    "    \n",
    "    # filter duplicate words by n-grams\n",
    "    filtered = sorted(filtered, key=lambda x: len(x.split()), reverse=True)    \n",
    "\n",
    "    \n",
    "    # remove single word of \"cup\"\n",
    "    ignore_items = [\"cup\"]\n",
    "    filtered = list(set(filtered) - set(ignore_items))   \n",
    "    \n",
    "    return filtered\n",
    "\n",
    "print(post_filter(predict(X_test.iloc[7].Directions)))\n",
    "print(X_test.iloc[7].Ingredients)"
   ]
  },
  {
   "cell_type": "code",
   "execution_count": 44,
   "id": "af367d41",
   "metadata": {},
   "outputs": [
    {
     "data": {
      "text/plain": [
       "['soda',\n",
       " 'brown',\n",
       " 'cinnamon',\n",
       " 'baking powder',\n",
       " 'milk',\n",
       " 'raisin',\n",
       " 'Add apple',\n",
       " 'flour',\n",
       " 'salt',\n",
       " 'combine flour',\n",
       " 'brown sugar',\n",
       " 'apple',\n",
       " 'powder',\n",
       " 'sugar',\n",
       " 'eggs',\n",
       " 'oil',\n",
       " 'nut',\n",
       " 'baking',\n",
       " 'nutmeg',\n",
       " 'oat',\n",
       " 'baking soda']"
      ]
     },
     "execution_count": 44,
     "metadata": {},
     "output_type": "execute_result"
    }
   ],
   "source": [
    "post_filter(predict('In a large bowl, combine flour, baking powder, baking soda, salt, cinnamon, nutmeg, brown sugar, and  oats. Add apple, nuts, raisins, eggs, milk, and oil.  Mix until dry ingredients are moistened.**Bake for 55 to 60 minutes, or until done.  Cool on wire rack.'))"
   ]
  },
  {
   "cell_type": "markdown",
   "id": "4db01e8d",
   "metadata": {},
   "source": [
    "# Calculate Positions from Text"
   ]
  },
  {
   "cell_type": "code",
   "execution_count": 45,
   "id": "03c23a00",
   "metadata": {},
   "outputs": [],
   "source": [
    "def create_result(text):\n",
    "    ingredients = post_filter(predict(text))\n",
    "    \n",
    "    matches = []\n",
    "    for item in ingredients:\n",
    "        matches += [[item, match.start(),match.end()] for match in re.finditer(item, text)]\n",
    "    \n",
    "    return matches"
   ]
  },
  {
   "cell_type": "code",
   "execution_count": 46,
   "id": "dbbee10d",
   "metadata": {},
   "outputs": [
    {
     "data": {
      "text/plain": [
       "[['soda', 54, 58],\n",
       " ['brown', 84, 89],\n",
       " ['cinnamon', 66, 74],\n",
       " ['baking powder', 32, 45],\n",
       " ['milk', 140, 144],\n",
       " ['raisin', 125, 131],\n",
       " ['Add apple', 108, 117],\n",
       " ['flour', 25, 30],\n",
       " ['salt', 60, 64],\n",
       " ['combine flour', 17, 30],\n",
       " ['brown sugar', 84, 95],\n",
       " ['apple', 112, 117],\n",
       " ['powder', 39, 45],\n",
       " ['sugar', 90, 95],\n",
       " ['eggs', 134, 138],\n",
       " ['oil', 150, 153],\n",
       " ['nut', 76, 79],\n",
       " ['nut', 119, 122],\n",
       " ['nut', 218, 221],\n",
       " ['baking', 32, 38],\n",
       " ['baking', 47, 53],\n",
       " ['nutmeg', 76, 82],\n",
       " ['oat', 102, 105],\n",
       " ['baking soda', 47, 58]]"
      ]
     },
     "execution_count": 46,
     "metadata": {},
     "output_type": "execute_result"
    }
   ],
   "source": [
    "create_result('In a large bowl, combine flour, baking powder, baking soda, salt, cinnamon, nutmeg, brown sugar, and  oats. Add apple, nuts, raisins, eggs, milk, and oil.  Mix until dry ingredients are moistened.**Bake for 55 to 60 minutes, or until done.  Cool on wire rack.')\n",
    "\n"
   ]
  },
  {
   "cell_type": "code",
   "execution_count": 47,
   "id": "1a4b33e8",
   "metadata": {},
   "outputs": [],
   "source": [
    "import tensorflow\n",
    "tensorflow.keras.models.save_model(model,\"model_1dcnn.h5\")"
   ]
  },
  {
   "cell_type": "code",
   "execution_count": null,
   "id": "990a98ba",
   "metadata": {},
   "outputs": [],
   "source": []
  },
  {
   "cell_type": "code",
   "execution_count": null,
   "id": "7b081959",
   "metadata": {},
   "outputs": [],
   "source": []
  }
 ],
 "metadata": {
  "kernelspec": {
   "display_name": "Python 3",
   "language": "python",
   "name": "python3"
  },
  "language_info": {
   "codemirror_mode": {
    "name": "ipython",
    "version": 3
   },
   "file_extension": ".py",
   "mimetype": "text/x-python",
   "name": "python",
   "nbconvert_exporter": "python",
   "pygments_lexer": "ipython3",
   "version": "3.8.8"
  }
 },
 "nbformat": 4,
 "nbformat_minor": 5
}

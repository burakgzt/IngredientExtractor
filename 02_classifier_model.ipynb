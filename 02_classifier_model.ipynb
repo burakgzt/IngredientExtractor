{
 "cells": [
  {
   "cell_type": "code",
   "execution_count": 150,
   "id": "d31b9646",
   "metadata": {},
   "outputs": [],
   "source": [
    "import re\n",
    "import nltk\n",
    "import random\n",
    "import numpy as np\n",
    "import pandas as pd\n",
    "from tqdm import tqdm\n",
    "\n",
    "from matplotlib import pyplot as plt\n",
    "%matplotlib inline"
   ]
  },
  {
   "cell_type": "code",
   "execution_count": 2,
   "id": "11407bc8",
   "metadata": {},
   "outputs": [
    {
     "name": "stderr",
     "output_type": "stream",
     "text": [
      "[nltk_data] Downloading package punkt to\n",
      "[nltk_data]     /Users/burakgozutok/nltk_data...\n",
      "[nltk_data]   Package punkt is already up-to-date!\n"
     ]
    },
    {
     "data": {
      "text/plain": [
       "True"
      ]
     },
     "execution_count": 2,
     "metadata": {},
     "output_type": "execute_result"
    }
   ],
   "source": [
    "nltk.download('punkt')"
   ]
  },
  {
   "cell_type": "markdown",
   "id": "00af2aa0",
   "metadata": {},
   "source": [
    "# Read Data"
   ]
  },
  {
   "cell_type": "code",
   "execution_count": 3,
   "id": "ec6c71a2",
   "metadata": {},
   "outputs": [
    {
     "data": {
      "text/html": [
       "<div>\n",
       "<style scoped>\n",
       "    .dataframe tbody tr th:only-of-type {\n",
       "        vertical-align: middle;\n",
       "    }\n",
       "\n",
       "    .dataframe tbody tr th {\n",
       "        vertical-align: top;\n",
       "    }\n",
       "\n",
       "    .dataframe thead th {\n",
       "        text-align: right;\n",
       "    }\n",
       "</style>\n",
       "<table border=\"1\" class=\"dataframe\">\n",
       "  <thead>\n",
       "    <tr style=\"text-align: right;\">\n",
       "      <th></th>\n",
       "      <th>Recipe Name</th>\n",
       "      <th>Review Count</th>\n",
       "      <th>Recipe Photo</th>\n",
       "      <th>Author</th>\n",
       "      <th>Prepare Time</th>\n",
       "      <th>Cook Time</th>\n",
       "      <th>Total Time</th>\n",
       "      <th>Ingredients</th>\n",
       "      <th>Directions</th>\n",
       "      <th>RecipeID</th>\n",
       "    </tr>\n",
       "  </thead>\n",
       "  <tbody>\n",
       "    <tr>\n",
       "      <th>0</th>\n",
       "      <td>Golden Crescent Rolls Recipe</td>\n",
       "      <td>304</td>\n",
       "      <td>https://images.media-allrecipes.com/userphotos...</td>\n",
       "      <td>Mike A.</td>\n",
       "      <td>25 m</td>\n",
       "      <td>15 m</td>\n",
       "      <td>3 h 10 m</td>\n",
       "      <td>yeast,water,white sugar,salt,egg,butter,flour,...</td>\n",
       "      <td>Dissolve yeast in warm water. Stir in sugar, s...</td>\n",
       "      <td>7000</td>\n",
       "    </tr>\n",
       "    <tr>\n",
       "      <th>1</th>\n",
       "      <td>Poppy Seed Bread with Glaze Recipe</td>\n",
       "      <td>137</td>\n",
       "      <td>https://images.media-allrecipes.com/userphotos...</td>\n",
       "      <td>Christina Jun</td>\n",
       "      <td>15 m</td>\n",
       "      <td>1 h</td>\n",
       "      <td>1 h 20 m</td>\n",
       "      <td>flour,salt,baking powder,poppy,butter,vegetabl...</td>\n",
       "      <td>'Preheat oven to 350 degrees F (175 degrees C)...</td>\n",
       "      <td>7001</td>\n",
       "    </tr>\n",
       "  </tbody>\n",
       "</table>\n",
       "</div>"
      ],
      "text/plain": [
       "                           Recipe Name Review Count  \\\n",
       "0        Golden Crescent Rolls Recipe           304   \n",
       "1  Poppy Seed Bread with Glaze Recipe           137   \n",
       "\n",
       "                                        Recipe Photo         Author  \\\n",
       "0  https://images.media-allrecipes.com/userphotos...        Mike A.   \n",
       "1  https://images.media-allrecipes.com/userphotos...  Christina Jun   \n",
       "\n",
       "  Prepare Time Cook Time Total Time  \\\n",
       "0         25 m      15 m   3 h 10 m   \n",
       "1         15 m       1 h   1 h 20 m   \n",
       "\n",
       "                                         Ingredients  \\\n",
       "0  yeast,water,white sugar,salt,egg,butter,flour,...   \n",
       "1  flour,salt,baking powder,poppy,butter,vegetabl...   \n",
       "\n",
       "                                          Directions  RecipeID  \n",
       "0  Dissolve yeast in warm water. Stir in sugar, s...      7000  \n",
       "1  'Preheat oven to 350 degrees F (175 degrees C)...      7001  "
      ]
     },
     "execution_count": 3,
     "metadata": {},
     "output_type": "execute_result"
    }
   ],
   "source": [
    "df = pd.read_csv('recipes.csv', delimiter=';')\n",
    "\n",
    "# Filter nan columns for Ingredients and Directions\n",
    "df = df[df['Ingredients'].notnull()]\n",
    "df = df[df['Directions'].notnull()]\n",
    "df.Directions = df.Directions.apply(lambda x: x.replace('**', ' '))\n",
    "\n",
    "df.head(2)"
   ]
  },
  {
   "cell_type": "code",
   "execution_count": null,
   "id": "45e08a3c",
   "metadata": {},
   "outputs": [],
   "source": []
  },
  {
   "cell_type": "code",
   "execution_count": 124,
   "id": "1eedd7bf",
   "metadata": {},
   "outputs": [
    {
     "name": "stderr",
     "output_type": "stream",
     "text": [
      "100%|██████████| 12345/12345 [00:08<00:00, 1423.84it/s]\n"
     ]
    },
    {
     "data": {
      "text/plain": [
       "(1245567, 942)"
      ]
     },
     "execution_count": 124,
     "metadata": {},
     "output_type": "execute_result"
    }
   ],
   "source": [
    "ingredients_all = list(set([item for row in df.Ingredients for item in row.split(',') if len(item) > 0]))\n",
    "#words_all = list(set([word for row in tqdm(df.Directions.to_list()) for word in nltk.word_tokenize(row)]))\n",
    "\n",
    "words_all = [word for row in tqdm(df.Directions.to_list()) for word in nltk.word_tokenize(row)]\n",
    "#words_all += list(nltk.ngrams(words_all, 2))\n",
    "\n",
    "len(words_all), len(ingredients_all)"
   ]
  },
  {
   "cell_type": "code",
   "execution_count": null,
   "id": "f11a05a5",
   "metadata": {},
   "outputs": [],
   "source": []
  },
  {
   "cell_type": "markdown",
   "id": "4d4d778d",
   "metadata": {},
   "source": [
    "# Create Model Data"
   ]
  },
  {
   "cell_type": "code",
   "execution_count": 47,
   "id": "8ddba5c9",
   "metadata": {},
   "outputs": [
    {
     "data": {
      "text/plain": [
       "(9876, 1234, 1235)"
      ]
     },
     "execution_count": 47,
     "metadata": {},
     "output_type": "execute_result"
    }
   ],
   "source": [
    "from sklearn.model_selection import train_test_split\n",
    "X_train, X_val = train_test_split(df, test_size=0.2, random_state=42)\n",
    "X_val, X_test = train_test_split(X_val, test_size=0.5, random_state=42)\n",
    "\n",
    "len(X_train), len(X_val), len(X_test)"
   ]
  },
  {
   "cell_type": "code",
   "execution_count": 135,
   "id": "e6bd9129",
   "metadata": {},
   "outputs": [
    {
     "name": "stderr",
     "output_type": "stream",
     "text": [
      "100%|██████████| 9876/9876 [00:07<00:00, 1312.77it/s]\n",
      "100%|██████████| 1234/1234 [00:00<00:00, 1355.48it/s]\n",
      "100%|██████████| 1235/1235 [00:00<00:00, 1322.22it/s]\n"
     ]
    }
   ],
   "source": [
    "def parse_df(df):\n",
    "    ingredients_all = list(set([item for row in df.Ingredients for item in row.split(',') if (len(item) > 0 and \" \" not in item)]))\n",
    "    words_all = list(set([word for row in tqdm(df.Directions.to_list()) for word in nltk.word_tokenize(row)]))\n",
    "\n",
    "    words_0 = list(set(words_all) - set(ingredients_all))\n",
    "    words_1 = ingredients_all\n",
    "\n",
    "    x = words_0 + words_1\n",
    "    y = [0 for i in range(len(words_0))] + [1 for i in range(len(words_0))]\n",
    "    \n",
    "    c = list(zip(x, y))\n",
    "    random.shuffle(c)\n",
    "    x, y = zip(*c)\n",
    "    \n",
    "    assert len(x) == len(y)\n",
    "    return x,y\n",
    "\n",
    "X_train_words, y_train_words = parse_df(X_train)\n",
    "X_val_words, y_val_words = parse_df(X_val)\n",
    "X_test_words, y_test_words = parse_df(X_test)"
   ]
  },
  {
   "cell_type": "code",
   "execution_count": null,
   "id": "46402b38",
   "metadata": {},
   "outputs": [],
   "source": []
  },
  {
   "cell_type": "markdown",
   "id": "3fa919b1",
   "metadata": {},
   "source": [
    "# Vectorize Text"
   ]
  },
  {
   "cell_type": "code",
   "execution_count": 126,
   "id": "9dc8b6f4",
   "metadata": {},
   "outputs": [
    {
     "name": "stderr",
     "output_type": "stream",
     "text": [
      "Warning : `load_model` does not return WordVectorModel or SupervisedModel any more, but a `FastText` object which is very similar.\n"
     ]
    },
    {
     "ename": "KeyboardInterrupt",
     "evalue": "",
     "output_type": "error",
     "traceback": [
      "\u001b[0;31m---------------------------------------------------------------------------\u001b[0m",
      "\u001b[0;31mKeyboardInterrupt\u001b[0m                         Traceback (most recent call last)",
      "\u001b[0;32m<ipython-input-126-e3e0f9b1bdbb>\u001b[0m in \u001b[0;36m<module>\u001b[0;34m\u001b[0m\n\u001b[1;32m      3\u001b[0m \u001b[0;32mimport\u001b[0m \u001b[0mfasttext\u001b[0m\u001b[0;34m.\u001b[0m\u001b[0mutil\u001b[0m\u001b[0;34m\u001b[0m\u001b[0;34m\u001b[0m\u001b[0m\n\u001b[1;32m      4\u001b[0m \u001b[0mfasttext\u001b[0m\u001b[0;34m.\u001b[0m\u001b[0mutil\u001b[0m\u001b[0;34m.\u001b[0m\u001b[0mdownload_model\u001b[0m\u001b[0;34m(\u001b[0m\u001b[0;34m'en'\u001b[0m\u001b[0;34m,\u001b[0m \u001b[0mif_exists\u001b[0m\u001b[0;34m=\u001b[0m\u001b[0;34m'ignore'\u001b[0m\u001b[0;34m)\u001b[0m  \u001b[0;31m# English\u001b[0m\u001b[0;34m\u001b[0m\u001b[0;34m\u001b[0m\u001b[0m\n\u001b[0;32m----> 5\u001b[0;31m \u001b[0mft_model\u001b[0m \u001b[0;34m=\u001b[0m \u001b[0mfasttext\u001b[0m\u001b[0;34m.\u001b[0m\u001b[0mload_model\u001b[0m\u001b[0;34m(\u001b[0m\u001b[0;34m'cc.en.300.bin'\u001b[0m\u001b[0;34m)\u001b[0m\u001b[0;34m\u001b[0m\u001b[0;34m\u001b[0m\u001b[0m\n\u001b[0m",
      "\u001b[0;32m~/opt/anaconda3/lib/python3.8/site-packages/fasttext/FastText.py\u001b[0m in \u001b[0;36mload_model\u001b[0;34m(path)\u001b[0m\n\u001b[1;32m    439\u001b[0m     \u001b[0;34m\"\"\"Load a model given a filepath and return a model object.\"\"\"\u001b[0m\u001b[0;34m\u001b[0m\u001b[0;34m\u001b[0m\u001b[0m\n\u001b[1;32m    440\u001b[0m     \u001b[0meprint\u001b[0m\u001b[0;34m(\u001b[0m\u001b[0;34m\"Warning : `load_model` does not return WordVectorModel or SupervisedModel any more, but a `FastText` object which is very similar.\"\u001b[0m\u001b[0;34m)\u001b[0m\u001b[0;34m\u001b[0m\u001b[0;34m\u001b[0m\u001b[0m\n\u001b[0;32m--> 441\u001b[0;31m     \u001b[0;32mreturn\u001b[0m \u001b[0m_FastText\u001b[0m\u001b[0;34m(\u001b[0m\u001b[0mmodel_path\u001b[0m\u001b[0;34m=\u001b[0m\u001b[0mpath\u001b[0m\u001b[0;34m)\u001b[0m\u001b[0;34m\u001b[0m\u001b[0;34m\u001b[0m\u001b[0m\n\u001b[0m\u001b[1;32m    442\u001b[0m \u001b[0;34m\u001b[0m\u001b[0m\n\u001b[1;32m    443\u001b[0m \u001b[0;34m\u001b[0m\u001b[0m\n",
      "\u001b[0;32m~/opt/anaconda3/lib/python3.8/site-packages/fasttext/FastText.py\u001b[0m in \u001b[0;36m__init__\u001b[0;34m(self, model_path, args)\u001b[0m\n\u001b[1;32m     96\u001b[0m         \u001b[0mself\u001b[0m\u001b[0;34m.\u001b[0m\u001b[0mf\u001b[0m \u001b[0;34m=\u001b[0m \u001b[0mfasttext\u001b[0m\u001b[0;34m.\u001b[0m\u001b[0mfasttext\u001b[0m\u001b[0;34m(\u001b[0m\u001b[0;34m)\u001b[0m\u001b[0;34m\u001b[0m\u001b[0;34m\u001b[0m\u001b[0m\n\u001b[1;32m     97\u001b[0m         \u001b[0;32mif\u001b[0m \u001b[0mmodel_path\u001b[0m \u001b[0;32mis\u001b[0m \u001b[0;32mnot\u001b[0m \u001b[0;32mNone\u001b[0m\u001b[0;34m:\u001b[0m\u001b[0;34m\u001b[0m\u001b[0;34m\u001b[0m\u001b[0m\n\u001b[0;32m---> 98\u001b[0;31m             \u001b[0mself\u001b[0m\u001b[0;34m.\u001b[0m\u001b[0mf\u001b[0m\u001b[0;34m.\u001b[0m\u001b[0mloadModel\u001b[0m\u001b[0;34m(\u001b[0m\u001b[0mmodel_path\u001b[0m\u001b[0;34m)\u001b[0m\u001b[0;34m\u001b[0m\u001b[0;34m\u001b[0m\u001b[0m\n\u001b[0m\u001b[1;32m     99\u001b[0m         \u001b[0mself\u001b[0m\u001b[0;34m.\u001b[0m\u001b[0m_words\u001b[0m \u001b[0;34m=\u001b[0m \u001b[0;32mNone\u001b[0m\u001b[0;34m\u001b[0m\u001b[0;34m\u001b[0m\u001b[0m\n\u001b[1;32m    100\u001b[0m         \u001b[0mself\u001b[0m\u001b[0;34m.\u001b[0m\u001b[0m_labels\u001b[0m \u001b[0;34m=\u001b[0m \u001b[0;32mNone\u001b[0m\u001b[0;34m\u001b[0m\u001b[0;34m\u001b[0m\u001b[0m\n",
      "\u001b[0;31mKeyboardInterrupt\u001b[0m: "
     ]
    }
   ],
   "source": [
    "# Load FastText Model\n",
    "#\n",
    "import fasttext.util\n",
    "fasttext.util.download_model('en', if_exists='ignore')  # English\n",
    "ft_model = fasttext.load_model('cc.en.300.bin')"
   ]
  },
  {
   "cell_type": "code",
   "execution_count": 136,
   "id": "4c99cdd0",
   "metadata": {},
   "outputs": [
    {
     "data": {
      "text/plain": [
       "((7155, 300, 1), (3344, 300, 1), (3345, 300, 1))"
      ]
     },
     "execution_count": 136,
     "metadata": {},
     "output_type": "execute_result"
    }
   ],
   "source": [
    "# Vectorize Words\n",
    "# \n",
    "X_train_vectors = [ft_model.get_sentence_vector(x) for x in X_train_words]\n",
    "X_val_vectors = [ft_model.get_sentence_vector(x) for x in X_val_words]\n",
    "X_test_vectors = [ft_model.get_sentence_vector(x) for x in X_test_words]\n",
    "\n",
    "X_train_vectors = np.expand_dims(np.array(X_train_vectors), axis=2)\n",
    "X_val_vectors = np.expand_dims(np.array(X_val_vectors), axis=2)\n",
    "X_test_vectors = np.expand_dims(np.array(X_test_vectors), axis=2)\n",
    "\n",
    "y_train_words = np.array(y_train_words)\n",
    "y_val_words = np.array(y_val_words)\n",
    "y_test_words = np.array(y_test_words)\n",
    "\n",
    "X_train_vectors.shape, X_val_vectors.shape, X_test_vectors.shape"
   ]
  },
  {
   "cell_type": "code",
   "execution_count": null,
   "id": "3b130ccf",
   "metadata": {},
   "outputs": [],
   "source": []
  },
  {
   "cell_type": "markdown",
   "id": "f550d2bc",
   "metadata": {},
   "source": [
    "# 1D CNN Model"
   ]
  },
  {
   "cell_type": "code",
   "execution_count": 137,
   "id": "c135d082",
   "metadata": {},
   "outputs": [],
   "source": [
    "from tensorflow.keras import optimizers\n",
    "from tensorflow.keras.models import Sequential\n",
    "from tensorflow.keras.layers import Dense, Dropout, Flatten,InputLayer\n",
    "from tensorflow.keras.layers import Conv1D, MaxPooling1D\n",
    "\n",
    "from tensorflow.keras.callbacks import EarlyStopping"
   ]
  },
  {
   "cell_type": "markdown",
   "id": "46926298",
   "metadata": {},
   "source": [
    "### Create Model and visualize"
   ]
  },
  {
   "cell_type": "code",
   "execution_count": 138,
   "id": "5f71e48b",
   "metadata": {},
   "outputs": [
    {
     "name": "stdout",
     "output_type": "stream",
     "text": [
      "_________________________________________________________________\n",
      "Layer (type)                 Output Shape              Param #   \n",
      "=================================================================\n",
      "conv1d_6 (Conv1D)            (None, 293, 16)           144       \n",
      "_________________________________________________________________\n",
      "max_pooling1d_6 (MaxPooling1 (None, 146, 16)           0         \n",
      "_________________________________________________________________\n",
      "flatten_6 (Flatten)          (None, 2336)              0         \n",
      "_________________________________________________________________\n",
      "dropout_6 (Dropout)          (None, 2336)              0         \n",
      "_________________________________________________________________\n",
      "dense_12 (Dense)             (None, 16)                37392     \n",
      "_________________________________________________________________\n",
      "dense_13 (Dense)             (None, 1)                 17        \n",
      "=================================================================\n",
      "Total params: 37,553\n",
      "Trainable params: 37,553\n",
      "Non-trainable params: 0\n",
      "_________________________________________________________________\n"
     ]
    }
   ],
   "source": [
    "model = Sequential()\n",
    "model.add(InputLayer((300,1)))\n",
    "model.add(Conv1D(filters=16, kernel_size=8, activation='relu'))\n",
    "model.add(MaxPooling1D(pool_size=2))\n",
    "model.add(Flatten())\n",
    "model.add(Dropout(0.5))\n",
    "model.add(Dense(16, activation='relu'))\n",
    "model.add(Dense(1, activation='sigmoid'))\n",
    "\n",
    "adam = optimizers.Adam(lr=0.0001, beta_1=0.9, beta_2=0.999, epsilon=1e-08, decay=0.0)\n",
    "model.compile(loss='binary_crossentropy', optimizer=adam, metrics=['accuracy'])\n",
    "model.summary()"
   ]
  },
  {
   "cell_type": "markdown",
   "id": "77c66ae4",
   "metadata": {},
   "source": [
    "### Calculate Class Weights for the imbalance"
   ]
  },
  {
   "cell_type": "code",
   "execution_count": 139,
   "id": "03e6ed05",
   "metadata": {},
   "outputs": [
    {
     "data": {
      "text/plain": [
       "{0: 0.562610229276896, 1: 4.492957746478873}"
      ]
     },
     "execution_count": 139,
     "metadata": {},
     "output_type": "execute_result"
    }
   ],
   "source": [
    "from sklearn.utils import class_weight\n",
    "class_weights = dict(zip(np.unique(y_train_words), class_weight.compute_class_weight('balanced', np.unique(y_train_words), \n",
    "                y_train))) \n",
    "class_weights"
   ]
  },
  {
   "cell_type": "markdown",
   "id": "c5605cee",
   "metadata": {},
   "source": [
    "### Train Model"
   ]
  },
  {
   "cell_type": "code",
   "execution_count": 140,
   "id": "51e62ccd",
   "metadata": {
    "scrolled": true
   },
   "outputs": [
    {
     "name": "stdout",
     "output_type": "stream",
     "text": [
      "Train on 7155 samples, validate on 3344 samples\n",
      "Epoch 1/30\n",
      "7155/7155 [==============================] - 1s 186us/step - loss: 0.6148 - acc: 0.9139 - val_loss: 0.4064 - val_acc: 0.9211\n",
      "Epoch 2/30\n",
      "7155/7155 [==============================] - 1s 94us/step - loss: 0.5498 - acc: 0.9509 - val_loss: 0.3621 - val_acc: 0.9211\n",
      "Epoch 3/30\n",
      "7155/7155 [==============================] - 1s 97us/step - loss: 0.5257 - acc: 0.9509 - val_loss: 0.3356 - val_acc: 0.9211\n",
      "Epoch 4/30\n",
      "7155/7155 [==============================] - 1s 83us/step - loss: 0.5004 - acc: 0.9509 - val_loss: 0.3126 - val_acc: 0.9211\n",
      "Epoch 5/30\n",
      "7155/7155 [==============================] - 1s 86us/step - loss: 0.4737 - acc: 0.9509 - val_loss: 0.2976 - val_acc: 0.9211\n",
      "Epoch 6/30\n",
      "7155/7155 [==============================] - 1s 90us/step - loss: 0.4355 - acc: 0.9539 - val_loss: 0.3065 - val_acc: 0.9360\n",
      "Epoch 7/30\n",
      "7155/7155 [==============================] - 1s 100us/step - loss: 0.4119 - acc: 0.9571 - val_loss: 0.2561 - val_acc: 0.9357\n",
      "Epoch 8/30\n",
      "7155/7155 [==============================] - 1s 102us/step - loss: 0.3847 - acc: 0.9557 - val_loss: 0.2538 - val_acc: 0.9402\n",
      "Epoch 9/30\n",
      "7155/7155 [==============================] - 1s 96us/step - loss: 0.3648 - acc: 0.9463 - val_loss: 0.2246 - val_acc: 0.9411\n",
      "Epoch 10/30\n",
      "7155/7155 [==============================] - 1s 88us/step - loss: 0.3429 - acc: 0.9469 - val_loss: 0.2217 - val_acc: 0.9351\n",
      "Epoch 11/30\n",
      "7155/7155 [==============================] - 1s 86us/step - loss: 0.3319 - acc: 0.9417 - val_loss: 0.2365 - val_acc: 0.9249\n",
      "Epoch 12/30\n",
      "7155/7155 [==============================] - 1s 83us/step - loss: 0.3246 - acc: 0.9375 - val_loss: 0.2109 - val_acc: 0.9294\n",
      "Epoch 13/30\n",
      "7155/7155 [==============================] - 1s 84us/step - loss: 0.3184 - acc: 0.9350 - val_loss: 0.2066 - val_acc: 0.9282\n",
      "Epoch 14/30\n",
      "7155/7155 [==============================] - 1s 84us/step - loss: 0.3088 - acc: 0.9314 - val_loss: 0.2001 - val_acc: 0.9288\n",
      "Epoch 15/30\n",
      "7155/7155 [==============================] - 1s 85us/step - loss: 0.2987 - acc: 0.9338 - val_loss: 0.2062 - val_acc: 0.9234\n",
      "Epoch 16/30\n",
      "7155/7155 [==============================] - 1s 95us/step - loss: 0.2979 - acc: 0.9298 - val_loss: 0.1926 - val_acc: 0.9285\n",
      "Epoch 17/30\n",
      "7155/7155 [==============================] - 1s 94us/step - loss: 0.2960 - acc: 0.9287 - val_loss: 0.1824 - val_acc: 0.9309\n",
      "Epoch 18/30\n",
      "7155/7155 [==============================] - 1s 103us/step - loss: 0.2865 - acc: 0.9318 - val_loss: 0.2132 - val_acc: 0.9163\n",
      "Epoch 19/30\n",
      "7155/7155 [==============================] - 1s 87us/step - loss: 0.2825 - acc: 0.9308 - val_loss: 0.1976 - val_acc: 0.9202\n",
      "Epoch 20/30\n",
      "7155/7155 [==============================] - 1s 86us/step - loss: 0.2824 - acc: 0.9296 - val_loss: 0.1812 - val_acc: 0.9285\n",
      "Epoch 21/30\n",
      "7155/7155 [==============================] - 1s 82us/step - loss: 0.2846 - acc: 0.9321 - val_loss: 0.1982 - val_acc: 0.9193\n",
      "Epoch 22/30\n",
      "7155/7155 [==============================] - 1s 86us/step - loss: 0.2806 - acc: 0.9310 - val_loss: 0.2218 - val_acc: 0.9100\n",
      "Epoch 23/30\n",
      "7155/7155 [==============================] - 1s 81us/step - loss: 0.2751 - acc: 0.9301 - val_loss: 0.1816 - val_acc: 0.9231\n",
      "Epoch 24/30\n",
      "7155/7155 [==============================] - 1s 85us/step - loss: 0.2740 - acc: 0.9310 - val_loss: 0.1917 - val_acc: 0.9205\n",
      "Epoch 25/30\n",
      "7155/7155 [==============================] - 1s 83us/step - loss: 0.2774 - acc: 0.9286 - val_loss: 0.1740 - val_acc: 0.9279\n",
      "Epoch 26/30\n",
      "7155/7155 [==============================] - 1s 86us/step - loss: 0.2646 - acc: 0.9340 - val_loss: 0.1863 - val_acc: 0.9222\n",
      "Epoch 27/30\n",
      "7155/7155 [==============================] - 1s 84us/step - loss: 0.2648 - acc: 0.9345 - val_loss: 0.1878 - val_acc: 0.9228\n",
      "Epoch 28/30\n",
      "7155/7155 [==============================] - 1s 82us/step - loss: 0.2616 - acc: 0.9340 - val_loss: 0.1767 - val_acc: 0.9258\n",
      "Epoch 29/30\n",
      "7155/7155 [==============================] - 1s 83us/step - loss: 0.2625 - acc: 0.9317 - val_loss: 0.1742 - val_acc: 0.9261\n",
      "Epoch 30/30\n",
      "7155/7155 [==============================] - 1s 82us/step - loss: 0.2577 - acc: 0.9342 - val_loss: 0.1743 - val_acc: 0.9261\n"
     ]
    }
   ],
   "source": [
    "history = model.fit(\n",
    "        X_train_vectors, y_train_words, \n",
    "        validation_data=(X_val_vectors,y_val_words), \n",
    "        batch_size=32, \n",
    "        epochs=30,\n",
    "        class_weight=class_weights,\n",
    "        callbacks=[early_stop]\n",
    "        )"
   ]
  },
  {
   "cell_type": "code",
   "execution_count": 141,
   "id": "92aca3e0",
   "metadata": {},
   "outputs": [
    {
     "data": {
      "image/png": "[encoded data removed]",
      "text/plain": [
       "<Figure size 432x288 with 1 Axes>"
      ]
     },
     "metadata": {
      "needs_background": "light"
     },
     "output_type": "display_data"
    },
    {
     "data": {
      "image/png": "[encoded data removed]",
      "text/plain": [
       "<Figure size 432x288 with 1 Axes>"
      ]
     },
     "metadata": {
      "needs_background": "light"
     },
     "output_type": "display_data"
    }
   ],
   "source": [
    "plt.figure()\n",
    "plt.plot(history.history['acc'])\n",
    "plt.plot(history.history['val_acc'])\n",
    "plt.title('model accuracy')\n",
    "plt.ylabel('accuracy')\n",
    "plt.xlabel('epoch')\n",
    "plt.legend(['train', 'val'], loc='upper left')\n",
    "plt.show()\n",
    "\n",
    "plt.figure()\n",
    "plt.plot(history.history['loss'])\n",
    "plt.plot(history.history['val_loss'])\n",
    "plt.title('model loss')\n",
    "plt.ylabel('loss')\n",
    "plt.xlabel('epoch')\n",
    "plt.legend(['train', 'val'], loc='upper left')\n",
    "plt.show()"
   ]
  },
  {
   "cell_type": "markdown",
   "id": "f93f46ae",
   "metadata": {},
   "source": [
    "### Evaluate"
   ]
  },
  {
   "cell_type": "code",
   "execution_count": 142,
   "id": "4fe0f0a9",
   "metadata": {},
   "outputs": [
    {
     "name": "stdout",
     "output_type": "stream",
     "text": [
      "              precision    recall  f1-score   support\n",
      "\n",
      "           0       0.98      0.93      0.96      3071\n",
      "           1       0.52      0.83      0.64       274\n",
      "\n",
      "    accuracy                           0.92      3345\n",
      "   macro avg       0.75      0.88      0.80      3345\n",
      "weighted avg       0.95      0.92      0.93      3345\n",
      "\n"
     ]
    }
   ],
   "source": [
    "from sklearn.metrics import classification_report\n",
    "\n",
    "y_pred = model.predict(X_test_vectors).squeeze()\n",
    "y_pred[y_pred >= 0.5] = 1\n",
    "y_pred[y_pred < 0.5] = 0\n",
    "\n",
    "print(classification_report(y_test_words,y_pred))"
   ]
  },
  {
   "cell_type": "markdown",
   "id": "8b6c6281",
   "metadata": {},
   "source": [
    "# Inference"
   ]
  },
  {
   "cell_type": "code",
   "execution_count": null,
   "id": "753cb6f4",
   "metadata": {},
   "outputs": [],
   "source": []
  },
  {
   "cell_type": "code",
   "execution_count": 164,
   "id": "49445ff2",
   "metadata": {
    "scrolled": true
   },
   "outputs": [
    {
     "data": {
      "text/plain": [
       "('well blended', (300,))"
      ]
     },
     "execution_count": 164,
     "metadata": {},
     "output_type": "execute_result"
    }
   ],
   "source": [
    "def recipe_to_target_words(recipe):\n",
    "    words = nltk.word_tokenize(recipe)\n",
    "    word_vectors = np.array([ft_model.get_word_vector(word) for word in words])\n",
    "\n",
    "    targets = []\n",
    "    for i in range(len(word_vectors)):    \n",
    "        n_gram_1 = word_vectors[i:i+1].mean(axis=0)\n",
    "        n_gram_2 = word_vectors[i:i+2].mean(axis=0)    \n",
    "        n_gram_3 = word_vectors[i:i+3].mean(axis=0)\n",
    "\n",
    "        targets.append((words[i], n_gram_1))\n",
    "        targets.append((' '.join(words[i:i+2]), n_gram_2))\n",
    "        targets.append((' '.join(words[i:i+3]), n_gram_3))\n",
    "    \n",
    "    return targets\n",
    "\n",
    "word,vec = recipe_to_target_words(X_test.iloc[0].Directions)[61]\n",
    "word, vec.shape"
   ]
  },
  {
   "cell_type": "code",
   "execution_count": 171,
   "id": "4cb651ce",
   "metadata": {},
   "outputs": [
    {
     "data": {
      "text/plain": [
       "['molasses',\n",
       " 'brown sugar',\n",
       " 'sugar',\n",
       " 'baking soda',\n",
       " 'soda',\n",
       " 'soda , ginger',\n",
       " 'ginger',\n",
       " 'ginger and cinnamon',\n",
       " 'cinnamon',\n",
       " 'cup',\n",
       " 'coffee',\n",
       " 'cup',\n",
       " 'spice',\n",
       " 'spice mixture',\n",
       " 'cup',\n",
       " 'coffee',\n",
       " 'whipped cream',\n",
       " 'cream',\n",
       " 'cloves']"
      ]
     },
     "execution_count": 171,
     "metadata": {},
     "output_type": "execute_result"
    }
   ],
   "source": [
    "def predict(text):\n",
    "    targets = recipe_to_target_words(text)\n",
    "    \n",
    "    words = [t[0] for t in targets]\n",
    "    vecs = np.array([np.expand_dims(t[1],axis=1) for t in targets])\n",
    "    \n",
    "    y_pred = model.predict(vecs) \n",
    "    y_pred = np.squeeze(y_pred > 0.5).astype(int)\n",
    "    \n",
    "    result = []\n",
    "    for w,p in zip(words,y_pred):\n",
    "        if p==1:\n",
    "            result.append(w)\n",
    "            \n",
    "    return result\n",
    "    \n",
    "predict(X_test.iloc[0].Directions)"
   ]
  },
  {
   "cell_type": "code",
   "execution_count": 218,
   "id": "a69df2ee",
   "metadata": {},
   "outputs": [
    {
     "data": {
      "text/plain": [
       "['cinnamon',\n",
       " 'whipped cream',\n",
       " 'cloves',\n",
       " 'baking soda',\n",
       " 'molasses',\n",
       " 'coffee',\n",
       " 'spice mixture',\n",
       " 'brown sugar',\n",
       " 'ginger']"
      ]
     },
     "execution_count": 218,
     "metadata": {},
     "output_type": "execute_result"
    }
   ],
   "source": [
    "def post_filter(items):\n",
    "    filtered = []\n",
    "    filtered = [item for item in items]\n",
    "    filtered = sorted(filtered, key=lambda x: len(x.split()), reverse=False)\n",
    "    \n",
    "    filtered2 = []\n",
    "    for f in filtered:\n",
    "        if ',' in f:\n",
    "            filtered2 += f.split(',')\n",
    "        if 'and' in f:\n",
    "            filtered2 += f.split('and')\n",
    "        if 'and' not in f and ',' not in f:\n",
    "            filtered2.append(f)\n",
    "        \n",
    "    filtered = list(set(filtered2))        \n",
    "    filtered = [f.strip() for f in filtered]\n",
    "    \n",
    "    \n",
    "    \n",
    "    ignore_items = []\n",
    "    for item in filtered:\n",
    "        for item2 in filtered:\n",
    "            if len(item2) > len(item) and item in item2.split():\n",
    "                ignore_items.append(item)\n",
    "    \n",
    "    # remove single word of \"cup\"\n",
    "    ignore_items += [\"cup\"]\n",
    "    filtered = list(set(filtered) - set(ignore_items))\n",
    "        \n",
    "    return filtered\n",
    "\n",
    "post_filter(predict(X_test.iloc[0].Directions))"
   ]
  },
  {
   "cell_type": "code",
   "execution_count": null,
   "id": "b7ae1b8c",
   "metadata": {},
   "outputs": [],
   "source": []
  },
  {
   "cell_type": "code",
   "execution_count": null,
   "id": "fd9d0fdd",
   "metadata": {},
   "outputs": [],
   "source": []
  }
 ],
 "metadata": {
  "kernelspec": {
   "display_name": "Python 3",
   "language": "python",
   "name": "python3"
  },
  "language_info": {
   "codemirror_mode": {
    "name": "ipython",
    "version": 3
   },
   "file_extension": ".py",
   "mimetype": "text/x-python",
   "name": "python",
   "nbconvert_exporter": "python",
   "pygments_lexer": "ipython3",
   "version": "3.8.8"
  }
 },
 "nbformat": 4,
 "nbformat_minor": 5
}

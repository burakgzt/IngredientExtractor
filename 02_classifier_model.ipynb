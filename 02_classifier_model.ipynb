{
 "cells": [
  {
   "cell_type": "code",
   "execution_count": 1,
   "id": "ad01f429",
   "metadata": {},
   "outputs": [],
   "source": [
    "import re\n",
    "import nltk\n",
    "import random\n",
    "import numpy as np\n",
    "import pandas as pd\n",
    "from tqdm import tqdm\n",
    "\n",
    "from matplotlib import pyplot as plt\n",
    "%matplotlib inline"
   ]
  },
  {
   "cell_type": "code",
   "execution_count": 2,
   "id": "c2632d3e",
   "metadata": {},
   "outputs": [
    {
     "name": "stderr",
     "output_type": "stream",
     "text": [
      "[nltk_data] Downloading package punkt to\n",
      "[nltk_data]     /Users/burakgozutok/nltk_data...\n",
      "[nltk_data]   Package punkt is already up-to-date!\n",
      "[nltk_data] Downloading package wordnet to\n",
      "[nltk_data]     /Users/burakgozutok/nltk_data...\n",
      "[nltk_data]   Package wordnet is already up-to-date!\n"
     ]
    },
    {
     "data": {
      "text/plain": [
       "True"
      ]
     },
     "execution_count": 2,
     "metadata": {},
     "output_type": "execute_result"
    }
   ],
   "source": [
    "nltk.download('punkt')\n",
    "nltk.download('wordnet')"
   ]
  },
  {
   "cell_type": "markdown",
   "id": "13664892",
   "metadata": {},
   "source": [
    "# 1. Read Data"
   ]
  },
  {
   "cell_type": "code",
   "execution_count": 3,
   "id": "877a67b1",
   "metadata": {},
   "outputs": [
    {
     "data": {
      "text/html": [
       "<div>\n",
       "<style scoped>\n",
       "    .dataframe tbody tr th:only-of-type {\n",
       "        vertical-align: middle;\n",
       "    }\n",
       "\n",
       "    .dataframe tbody tr th {\n",
       "        vertical-align: top;\n",
       "    }\n",
       "\n",
       "    .dataframe thead th {\n",
       "        text-align: right;\n",
       "    }\n",
       "</style>\n",
       "<table border=\"1\" class=\"dataframe\">\n",
       "  <thead>\n",
       "    <tr style=\"text-align: right;\">\n",
       "      <th></th>\n",
       "      <th>Recipe Name</th>\n",
       "      <th>Review Count</th>\n",
       "      <th>Recipe Photo</th>\n",
       "      <th>Author</th>\n",
       "      <th>Prepare Time</th>\n",
       "      <th>Cook Time</th>\n",
       "      <th>Total Time</th>\n",
       "      <th>Ingredients</th>\n",
       "      <th>Directions</th>\n",
       "      <th>RecipeID</th>\n",
       "    </tr>\n",
       "  </thead>\n",
       "  <tbody>\n",
       "    <tr>\n",
       "      <th>0</th>\n",
       "      <td>Golden Crescent Rolls Recipe</td>\n",
       "      <td>304</td>\n",
       "      <td>https://images.media-allrecipes.com/userphotos...</td>\n",
       "      <td>Mike A.</td>\n",
       "      <td>25 m</td>\n",
       "      <td>15 m</td>\n",
       "      <td>3 h 10 m</td>\n",
       "      <td>yeast,water,white sugar,salt,egg,butter,flour,...</td>\n",
       "      <td>Dissolve yeast in warm water. Stir in sugar, s...</td>\n",
       "      <td>7000</td>\n",
       "    </tr>\n",
       "    <tr>\n",
       "      <th>1</th>\n",
       "      <td>Poppy Seed Bread with Glaze Recipe</td>\n",
       "      <td>137</td>\n",
       "      <td>https://images.media-allrecipes.com/userphotos...</td>\n",
       "      <td>Christina Jun</td>\n",
       "      <td>15 m</td>\n",
       "      <td>1 h</td>\n",
       "      <td>1 h 20 m</td>\n",
       "      <td>flour,salt,baking powder,poppy,butter,vegetabl...</td>\n",
       "      <td>'Preheat oven to 350 degrees F (175 degrees C)...</td>\n",
       "      <td>7001</td>\n",
       "    </tr>\n",
       "  </tbody>\n",
       "</table>\n",
       "</div>"
      ],
      "text/plain": [
       "                           Recipe Name Review Count  \\\n",
       "0        Golden Crescent Rolls Recipe           304   \n",
       "1  Poppy Seed Bread with Glaze Recipe           137   \n",
       "\n",
       "                                        Recipe Photo         Author  \\\n",
       "0  https://images.media-allrecipes.com/userphotos...        Mike A.   \n",
       "1  https://images.media-allrecipes.com/userphotos...  Christina Jun   \n",
       "\n",
       "  Prepare Time Cook Time Total Time  \\\n",
       "0         25 m      15 m   3 h 10 m   \n",
       "1         15 m       1 h   1 h 20 m   \n",
       "\n",
       "                                         Ingredients  \\\n",
       "0  yeast,water,white sugar,salt,egg,butter,flour,...   \n",
       "1  flour,salt,baking powder,poppy,butter,vegetabl...   \n",
       "\n",
       "                                          Directions  RecipeID  \n",
       "0  Dissolve yeast in warm water. Stir in sugar, s...      7000  \n",
       "1  'Preheat oven to 350 degrees F (175 degrees C)...      7001  "
      ]
     },
     "execution_count": 3,
     "metadata": {},
     "output_type": "execute_result"
    }
   ],
   "source": [
    "df = pd.read_csv('recipes.csv', delimiter=';')\n",
    "\n",
    "# Filter nan columns for Ingredients and Directions\n",
    "df = df[df['Ingredients'].notnull()]\n",
    "df = df[df['Directions'].notnull()]\n",
    "df.Directions = df.Directions.apply(lambda x: x.replace('**', ' '))\n",
    "\n",
    "df.head(2)"
   ]
  },
  {
   "cell_type": "markdown",
   "id": "096b0e08",
   "metadata": {},
   "source": [
    "#### Create List of Words from Ingredients and recipies"
   ]
  },
  {
   "cell_type": "code",
   "execution_count": 4,
   "id": "3cb8ec25",
   "metadata": {},
   "outputs": [
    {
     "name": "stderr",
     "output_type": "stream",
     "text": [
      "100%|██████████| 12345/12345 [00:08<00:00, 1435.29it/s]\n"
     ]
    },
    {
     "data": {
      "text/plain": [
       "(1245567, 942)"
      ]
     },
     "execution_count": 4,
     "metadata": {},
     "output_type": "execute_result"
    }
   ],
   "source": [
    "ingredients_all = list(set([item for row in df.Ingredients for item in row.split(',') if len(item) > 0]))\n",
    "words_all = [word for row in tqdm(df.Directions.to_list()) for word in nltk.word_tokenize(row)]\n",
    "\n",
    "len(words_all), len(ingredients_all)"
   ]
  },
  {
   "cell_type": "code",
   "execution_count": null,
   "id": "12cbd3ba",
   "metadata": {},
   "outputs": [],
   "source": []
  },
  {
   "cell_type": "markdown",
   "id": "d2d3c1d2",
   "metadata": {},
   "source": [
    "# 2. Prepare Data for Model"
   ]
  },
  {
   "cell_type": "markdown",
   "id": "24aae797",
   "metadata": {},
   "source": [
    "#### Train Test Split"
   ]
  },
  {
   "cell_type": "code",
   "execution_count": 5,
   "id": "4cea3378",
   "metadata": {},
   "outputs": [
    {
     "data": {
      "text/plain": [
       "(11110, 617, 618)"
      ]
     },
     "execution_count": 5,
     "metadata": {},
     "output_type": "execute_result"
    }
   ],
   "source": [
    "from sklearn.model_selection import train_test_split\n",
    "X_train, X_val = train_test_split(df, test_size=0.1, random_state=42)\n",
    "X_val, X_test = train_test_split(X_val, test_size=0.5, random_state=42)\n",
    "\n",
    "len(X_train), len(X_val), len(X_test)"
   ]
  },
  {
   "cell_type": "markdown",
   "id": "2e9ab98e",
   "metadata": {},
   "source": [
    "#### Split Ingredients and recipes to words seperately for train,test,val"
   ]
  },
  {
   "cell_type": "code",
   "execution_count": 6,
   "id": "d60e10d9",
   "metadata": {},
   "outputs": [
    {
     "name": "stderr",
     "output_type": "stream",
     "text": [
      "100%|██████████| 11110/11110 [00:08<00:00, 1329.31it/s]\n",
      "100%|██████████| 617/617 [00:00<00:00, 1137.30it/s]\n",
      "100%|██████████| 618/618 [00:00<00:00, 1080.07it/s]\n"
     ]
    }
   ],
   "source": [
    "def parse_df(df):\n",
    "    ingredients_all = list(set([item for row in df.Ingredients for item in row.split(',') if (len(item) > 0 and \" \" not in item)]))\n",
    "    words_all = list(set([word for row in tqdm(df.Directions.to_list()) for word in nltk.word_tokenize(row)]))\n",
    "    \n",
    "    #Put label 0 to normal words and 1 to ingredients.\n",
    "    words_0 = list(set(words_all) - set(ingredients_all))\n",
    "    words_1 = ingredients_all\n",
    "    \n",
    "    # Combine 0s and 1s\n",
    "    x = words_0 + words_1\n",
    "    y = [0 for i in range(len(words_0))] + [1 for i in range(len(words_0))]\n",
    "    \n",
    "    # Shuffle data\n",
    "    c = list(zip(x, y))\n",
    "    random.shuffle(c)\n",
    "    x, y = zip(*c)\n",
    "    \n",
    "    assert len(x) == len(y)\n",
    "    return x,y\n",
    "\n",
    "X_train_words, y_train_words = parse_df(X_train)\n",
    "X_val_words, y_val_words = parse_df(X_val)\n",
    "X_test_words, y_test_words = parse_df(X_test)"
   ]
  },
  {
   "cell_type": "code",
   "execution_count": null,
   "id": "087fa0a5",
   "metadata": {},
   "outputs": [],
   "source": []
  },
  {
   "cell_type": "markdown",
   "id": "e2e64ffd",
   "metadata": {},
   "source": [
    "# Vectorize Text"
   ]
  },
  {
   "cell_type": "code",
   "execution_count": 7,
   "id": "277ef774",
   "metadata": {},
   "outputs": [
    {
     "name": "stderr",
     "output_type": "stream",
     "text": [
      "Warning : `load_model` does not return WordVectorModel or SupervisedModel any more, but a `FastText` object which is very similar.\n"
     ]
    }
   ],
   "source": [
    "# Load FastText Model\n",
    "#\n",
    "import fasttext.util\n",
    "fasttext.util.download_model('en', if_exists='ignore')  # English\n",
    "ft_model = fasttext.load_model('cc.en.300.bin')"
   ]
  },
  {
   "cell_type": "code",
   "execution_count": 8,
   "id": "f1a1ca50",
   "metadata": {},
   "outputs": [
    {
     "data": {
      "text/plain": [
       "((7465, 300, 1), (2548, 300, 1), (2579, 300, 1))"
      ]
     },
     "execution_count": 8,
     "metadata": {},
     "output_type": "execute_result"
    }
   ],
   "source": [
    "# Vectorize Words\n",
    "# \n",
    "X_train_vectors = [ft_model.get_sentence_vector(x) for x in X_train_words]\n",
    "X_val_vectors = [ft_model.get_sentence_vector(x) for x in X_val_words]\n",
    "X_test_vectors = [ft_model.get_sentence_vector(x) for x in X_test_words]\n",
    "\n",
    "X_train_vectors = np.expand_dims(np.array(X_train_vectors), axis=2)\n",
    "X_val_vectors = np.expand_dims(np.array(X_val_vectors), axis=2)\n",
    "X_test_vectors = np.expand_dims(np.array(X_test_vectors), axis=2)\n",
    "\n",
    "y_train_words = np.array(y_train_words)\n",
    "y_val_words = np.array(y_val_words)\n",
    "y_test_words = np.array(y_test_words)\n",
    "\n",
    "X_train_vectors.shape, X_val_vectors.shape, X_test_vectors.shape"
   ]
  },
  {
   "cell_type": "code",
   "execution_count": null,
   "id": "b81081cc",
   "metadata": {},
   "outputs": [],
   "source": []
  },
  {
   "cell_type": "markdown",
   "id": "5486966e",
   "metadata": {},
   "source": [
    "# 1D CNN Model"
   ]
  },
  {
   "cell_type": "code",
   "execution_count": 10,
   "id": "f88c1ce1",
   "metadata": {},
   "outputs": [],
   "source": [
    "from tensorflow.keras import optimizers\n",
    "from tensorflow.keras.models import Sequential\n",
    "from tensorflow.keras.layers import Dense, Dropout, Flatten,InputLayer\n",
    "from tensorflow.keras.layers import Conv1D, MaxPooling1D\n",
    "\n",
    "from tensorflow.keras.callbacks import EarlyStopping"
   ]
  },
  {
   "cell_type": "markdown",
   "id": "f49515a0",
   "metadata": {},
   "source": [
    "### Create Model and show summary"
   ]
  },
  {
   "cell_type": "code",
   "execution_count": 11,
   "id": "8978a4e3",
   "metadata": {},
   "outputs": [
    {
     "name": "stdout",
     "output_type": "stream",
     "text": [
      "_________________________________________________________________\n",
      "Layer (type)                 Output Shape              Param #   \n",
      "=================================================================\n",
      "conv1d (Conv1D)              (None, 293, 16)           144       \n",
      "_________________________________________________________________\n",
      "max_pooling1d (MaxPooling1D) (None, 146, 16)           0         \n",
      "_________________________________________________________________\n",
      "flatten (Flatten)            (None, 2336)              0         \n",
      "_________________________________________________________________\n",
      "dropout (Dropout)            (None, 2336)              0         \n",
      "_________________________________________________________________\n",
      "dense (Dense)                (None, 16)                37392     \n",
      "_________________________________________________________________\n",
      "dense_1 (Dense)              (None, 1)                 17        \n",
      "=================================================================\n",
      "Total params: 37,553\n",
      "Trainable params: 37,553\n",
      "Non-trainable params: 0\n",
      "_________________________________________________________________\n"
     ]
    }
   ],
   "source": [
    "model = Sequential()\n",
    "model.add(InputLayer((300,1)))\n",
    "model.add(Conv1D(filters=16, kernel_size=8, activation='relu'))\n",
    "model.add(MaxPooling1D(pool_size=2))\n",
    "model.add(Flatten())\n",
    "model.add(Dropout(0.5))\n",
    "model.add(Dense(16, activation='relu'))\n",
    "model.add(Dense(1, activation='sigmoid'))\n",
    "\n",
    "adam = optimizers.Adam(lr=0.0001)\n",
    "model.compile(loss='binary_crossentropy', optimizer=adam, metrics=['accuracy'])\n",
    "model.summary()"
   ]
  },
  {
   "cell_type": "markdown",
   "id": "01a44c4d",
   "metadata": {},
   "source": [
    "### Calculate Class Weights for the imbalance"
   ]
  },
  {
   "cell_type": "code",
   "execution_count": 12,
   "id": "1bd49c6a",
   "metadata": {},
   "outputs": [
    {
     "name": "stderr",
     "output_type": "stream",
     "text": [
      "/Users/burakgozutok/opt/anaconda3/lib/python3.8/site-packages/sklearn/utils/validation.py:70: FutureWarning: Pass classes=[0 1], y=[0 0 0 ... 0 0 0] as keyword args. From version 1.0 (renaming of 0.25) passing these as positional arguments will result in an error\n",
      "  warnings.warn(f\"Pass {args_msg} as keyword args. From version \"\n"
     ]
    },
    {
     "data": {
      "text/plain": [
       "{0: 0.5250386833591223, 1: 10.484550561797754}"
      ]
     },
     "execution_count": 12,
     "metadata": {},
     "output_type": "execute_result"
    }
   ],
   "source": [
    "from sklearn.utils import class_weight\n",
    "class_weights = dict(zip(np.unique(y_train_words), class_weight.compute_class_weight('balanced', np.unique(y_train_words), \n",
    "                y_train_words))) \n",
    "class_weights"
   ]
  },
  {
   "cell_type": "markdown",
   "id": "c837d06e",
   "metadata": {},
   "source": [
    "### Train Model"
   ]
  },
  {
   "cell_type": "code",
   "execution_count": 13,
   "id": "d2e305fa",
   "metadata": {
    "scrolled": true
   },
   "outputs": [
    {
     "name": "stdout",
     "output_type": "stream",
     "text": [
      "Train on 7465 samples, validate on 2548 samples\n",
      "Epoch 1/100\n",
      "7465/7465 [==============================] - 1s 156us/step - loss: 0.6722 - acc: 0.9365 - val_loss: 0.5702 - val_acc: 0.9078\n",
      "Epoch 2/100\n",
      "7465/7465 [==============================] - 1s 109us/step - loss: 0.6220 - acc: 0.9538 - val_loss: 0.4974 - val_acc: 0.9215\n",
      "Epoch 3/100\n",
      "7465/7465 [==============================] - 1s 125us/step - loss: 0.5731 - acc: 0.9397 - val_loss: 0.4243 - val_acc: 0.9203\n",
      "Epoch 4/100\n",
      "7465/7465 [==============================] - 1s 122us/step - loss: 0.5088 - acc: 0.9160 - val_loss: 0.4568 - val_acc: 0.8658\n",
      "Epoch 5/100\n",
      "7465/7465 [==============================] - 1s 124us/step - loss: 0.4635 - acc: 0.8950 - val_loss: 0.3745 - val_acc: 0.8878\n",
      "Epoch 6/100\n",
      "7465/7465 [==============================] - 1s 122us/step - loss: 0.4254 - acc: 0.8920 - val_loss: 0.3242 - val_acc: 0.8952\n",
      "Epoch 7/100\n",
      "7465/7465 [==============================] - 1s 108us/step - loss: 0.4012 - acc: 0.8930 - val_loss: 0.2955 - val_acc: 0.8976\n",
      "Epoch 8/100\n",
      "7465/7465 [==============================] - 1s 112us/step - loss: 0.3922 - acc: 0.8872 - val_loss: 0.3808 - val_acc: 0.8532\n",
      "Epoch 9/100\n",
      "7465/7465 [==============================] - 1s 116us/step - loss: 0.3754 - acc: 0.8892 - val_loss: 0.3242 - val_acc: 0.8756\n",
      "Epoch 10/100\n",
      "7465/7465 [==============================] - 1s 116us/step - loss: 0.3645 - acc: 0.8900 - val_loss: 0.3681 - val_acc: 0.8528\n",
      "Epoch 11/100\n",
      "7465/7465 [==============================] - 1s 113us/step - loss: 0.3581 - acc: 0.8857 - val_loss: 0.3058 - val_acc: 0.8791\n",
      "Epoch 12/100\n",
      "7465/7465 [==============================] - 1s 98us/step - loss: 0.3457 - acc: 0.8847 - val_loss: 0.3082 - val_acc: 0.8768\n",
      "Epoch 13/100\n",
      "7465/7465 [==============================] - 1s 136us/step - loss: 0.3476 - acc: 0.8843 - val_loss: 0.2743 - val_acc: 0.8929\n",
      "Epoch 14/100\n",
      "7465/7465 [==============================] - 1s 121us/step - loss: 0.3398 - acc: 0.8912 - val_loss: 0.2660 - val_acc: 0.8964\n",
      "Epoch 15/100\n",
      "7465/7465 [==============================] - 1s 147us/step - loss: 0.3347 - acc: 0.8915 - val_loss: 0.3342 - val_acc: 0.8611\n",
      "Epoch 16/100\n",
      "7465/7465 [==============================] - 1s 141us/step - loss: 0.3298 - acc: 0.8855 - val_loss: 0.2907 - val_acc: 0.8815\n",
      "Epoch 17/100\n",
      "7465/7465 [==============================] - 1s 149us/step - loss: 0.3248 - acc: 0.8926 - val_loss: 0.3325 - val_acc: 0.8607\n",
      "Epoch 18/100\n",
      "7465/7465 [==============================] - 1s 153us/step - loss: 0.3179 - acc: 0.8885 - val_loss: 0.2735 - val_acc: 0.8901\n",
      "Epoch 19/100\n",
      "7465/7465 [==============================] - 1s 104us/step - loss: 0.3008 - acc: 0.8966 - val_loss: 0.3033 - val_acc: 0.8728\n",
      "Epoch 20/100\n",
      "7465/7465 [==============================] - 1s 154us/step - loss: 0.3106 - acc: 0.8951 - val_loss: 0.2625 - val_acc: 0.8952\n",
      "Epoch 21/100\n",
      "7465/7465 [==============================] - 1s 130us/step - loss: 0.3145 - acc: 0.8888 - val_loss: 0.3070 - val_acc: 0.8728\n",
      "Epoch 22/100\n",
      "7465/7465 [==============================] - 1s 112us/step - loss: 0.3111 - acc: 0.8914 - val_loss: 0.3167 - val_acc: 0.8666\n",
      "Epoch 23/100\n",
      "7465/7465 [==============================] - 1s 110us/step - loss: 0.3034 - acc: 0.8922 - val_loss: 0.2597 - val_acc: 0.8948\n",
      "Epoch 24/100\n",
      "7465/7465 [==============================] - 1s 119us/step - loss: 0.2990 - acc: 0.8950 - val_loss: 0.2621 - val_acc: 0.8936\n",
      "Epoch 25/100\n",
      "7465/7465 [==============================] - 1s 120us/step - loss: 0.2963 - acc: 0.8880 - val_loss: 0.2775 - val_acc: 0.8858\n",
      "Epoch 26/100\n",
      "7465/7465 [==============================] - 1s 116us/step - loss: 0.2975 - acc: 0.8978 - val_loss: 0.3047 - val_acc: 0.8709\n",
      "Epoch 27/100\n",
      "7465/7465 [==============================] - 1s 136us/step - loss: 0.2843 - acc: 0.9038 - val_loss: 0.2539 - val_acc: 0.8984\n",
      "Epoch 28/100\n",
      "7465/7465 [==============================] - 1s 139us/step - loss: 0.2857 - acc: 0.8987 - val_loss: 0.2440 - val_acc: 0.9023\n",
      "Epoch 29/100\n",
      "7465/7465 [==============================] - 1s 124us/step - loss: 0.2911 - acc: 0.8978 - val_loss: 0.2688 - val_acc: 0.8897\n",
      "Epoch 30/100\n",
      "7465/7465 [==============================] - 1s 111us/step - loss: 0.2850 - acc: 0.8962 - val_loss: 0.2771 - val_acc: 0.8830\n",
      "Epoch 31/100\n",
      "7465/7465 [==============================] - 1s 119us/step - loss: 0.2901 - acc: 0.8986 - val_loss: 0.2653 - val_acc: 0.8909\n",
      "Epoch 32/100\n",
      "7465/7465 [==============================] - 1s 126us/step - loss: 0.2840 - acc: 0.8985 - val_loss: 0.2799 - val_acc: 0.8823\n",
      "Epoch 33/100\n",
      "7465/7465 [==============================] - 1s 133us/step - loss: 0.2686 - acc: 0.9046 - val_loss: 0.2457 - val_acc: 0.8991\n",
      "Epoch 34/100\n",
      "7465/7465 [==============================] - 1s 153us/step - loss: 0.2735 - acc: 0.9085 - val_loss: 0.3000 - val_acc: 0.8776\n",
      "Epoch 35/100\n",
      "7465/7465 [==============================] - 1s 128us/step - loss: 0.2782 - acc: 0.8993 - val_loss: 0.2476 - val_acc: 0.8991\n",
      "Epoch 36/100\n",
      "7465/7465 [==============================] - 1s 117us/step - loss: 0.2690 - acc: 0.9035 - val_loss: 0.2465 - val_acc: 0.8984\n",
      "Epoch 37/100\n",
      "7465/7465 [==============================] - 1s 109us/step - loss: 0.2653 - acc: 0.9066 - val_loss: 0.2637 - val_acc: 0.8909\n",
      "Epoch 38/100\n",
      "7465/7465 [==============================] - 1s 141us/step - loss: 0.2732 - acc: 0.9030 - val_loss: 0.2423 - val_acc: 0.9007\n",
      "Epoch 39/100\n",
      "7465/7465 [==============================] - 1s 109us/step - loss: 0.2678 - acc: 0.9073 - val_loss: 0.2892 - val_acc: 0.8799\n",
      "Epoch 40/100\n",
      "7465/7465 [==============================] - 1s 107us/step - loss: 0.2627 - acc: 0.9062 - val_loss: 0.2794 - val_acc: 0.8834\n",
      "Epoch 41/100\n",
      "7465/7465 [==============================] - 1s 111us/step - loss: 0.2638 - acc: 0.9031 - val_loss: 0.2555 - val_acc: 0.8936\n",
      "Epoch 42/100\n",
      "7465/7465 [==============================] - 1s 113us/step - loss: 0.2575 - acc: 0.9136 - val_loss: 0.2475 - val_acc: 0.8972\n",
      "Epoch 43/100\n",
      "7465/7465 [==============================] - 1s 105us/step - loss: 0.2631 - acc: 0.9026 - val_loss: 0.2631 - val_acc: 0.8901\n",
      "Epoch 44/100\n",
      "7465/7465 [==============================] - 1s 125us/step - loss: 0.2603 - acc: 0.9050 - val_loss: 0.2594 - val_acc: 0.8909\n",
      "Epoch 45/100\n",
      "7465/7465 [==============================] - 1s 110us/step - loss: 0.2531 - acc: 0.9076 - val_loss: 0.2718 - val_acc: 0.8866\n",
      "Epoch 46/100\n",
      "7465/7465 [==============================] - 1s 110us/step - loss: 0.2489 - acc: 0.9104 - val_loss: 0.2455 - val_acc: 0.8972\n",
      "Epoch 47/100\n",
      "7465/7465 [==============================] - 1s 137us/step - loss: 0.2466 - acc: 0.9098 - val_loss: 0.2206 - val_acc: 0.9097\n",
      "Epoch 48/100\n",
      "7465/7465 [==============================] - 1s 151us/step - loss: 0.2495 - acc: 0.9115 - val_loss: 0.2461 - val_acc: 0.8960\n",
      "Epoch 49/100\n",
      "7465/7465 [==============================] - 1s 132us/step - loss: 0.2531 - acc: 0.9073 - val_loss: 0.2316 - val_acc: 0.9011\n",
      "Epoch 50/100\n",
      "7465/7465 [==============================] - 1s 129us/step - loss: 0.2557 - acc: 0.9109 - val_loss: 0.2427 - val_acc: 0.8968\n",
      "Epoch 51/100\n",
      "7465/7465 [==============================] - 1s 124us/step - loss: 0.2430 - acc: 0.9093 - val_loss: 0.2114 - val_acc: 0.9109\n",
      "Epoch 52/100\n",
      "7465/7465 [==============================] - 1s 123us/step - loss: 0.2486 - acc: 0.9128 - val_loss: 0.2471 - val_acc: 0.8944\n",
      "Epoch 53/100\n",
      "7465/7465 [==============================] - 1s 120us/step - loss: 0.2475 - acc: 0.9144 - val_loss: 0.2621 - val_acc: 0.8921\n",
      "Epoch 54/100\n",
      "7465/7465 [==============================] - 1s 108us/step - loss: 0.2388 - acc: 0.9136 - val_loss: 0.2361 - val_acc: 0.8995\n",
      "Epoch 55/100\n",
      "7465/7465 [==============================] - 1s 128us/step - loss: 0.2483 - acc: 0.9068 - val_loss: 0.2114 - val_acc: 0.9109\n",
      "Epoch 56/100\n",
      "7465/7465 [==============================] - 1s 124us/step - loss: 0.2448 - acc: 0.9133 - val_loss: 0.2208 - val_acc: 0.9062\n",
      "Epoch 57/100\n",
      "7465/7465 [==============================] - 1s 126us/step - loss: 0.2332 - acc: 0.9168 - val_loss: 0.2124 - val_acc: 0.9097\n",
      "Epoch 58/100\n",
      "7465/7465 [==============================] - 1s 111us/step - loss: 0.2386 - acc: 0.9129 - val_loss: 0.1976 - val_acc: 0.9152\n",
      "Epoch 59/100\n",
      "7465/7465 [==============================] - 1s 107us/step - loss: 0.2381 - acc: 0.9175 - val_loss: 0.2616 - val_acc: 0.8932\n",
      "Epoch 60/100\n"
     ]
    },
    {
     "name": "stdout",
     "output_type": "stream",
     "text": [
      "7465/7465 [==============================] - 1s 105us/step - loss: 0.2381 - acc: 0.9121 - val_loss: 0.2039 - val_acc: 0.9144\n",
      "Epoch 61/100\n",
      "7465/7465 [==============================] - 1s 102us/step - loss: 0.2350 - acc: 0.9175 - val_loss: 0.2350 - val_acc: 0.9011\n",
      "Epoch 62/100\n",
      "7465/7465 [==============================] - 1s 110us/step - loss: 0.2257 - acc: 0.9153 - val_loss: 0.2315 - val_acc: 0.9031\n",
      "Epoch 63/100\n",
      "7465/7465 [==============================] - 1s 106us/step - loss: 0.2361 - acc: 0.9137 - val_loss: 0.2316 - val_acc: 0.9019\n",
      "Epoch 64/100\n",
      "7465/7465 [==============================] - 1s 106us/step - loss: 0.2349 - acc: 0.9160 - val_loss: 0.2189 - val_acc: 0.9082\n",
      "Epoch 65/100\n",
      "7465/7465 [==============================] - 1s 106us/step - loss: 0.2262 - acc: 0.9208 - val_loss: 0.2255 - val_acc: 0.9070\n",
      "Epoch 66/100\n",
      "7465/7465 [==============================] - 1s 107us/step - loss: 0.2314 - acc: 0.9161 - val_loss: 0.2248 - val_acc: 0.9070\n",
      "Epoch 67/100\n",
      "7465/7465 [==============================] - 1s 108us/step - loss: 0.2193 - acc: 0.9155 - val_loss: 0.1894 - val_acc: 0.9172\n",
      "Epoch 68/100\n",
      "7465/7465 [==============================] - 1s 106us/step - loss: 0.2210 - acc: 0.9177 - val_loss: 0.2191 - val_acc: 0.9082\n",
      "Epoch 69/100\n",
      "7465/7465 [==============================] - 1s 116us/step - loss: 0.2249 - acc: 0.9186 - val_loss: 0.2470 - val_acc: 0.8976\n",
      "Epoch 70/100\n",
      "7465/7465 [==============================] - 1s 116us/step - loss: 0.2187 - acc: 0.9125 - val_loss: 0.1968 - val_acc: 0.9160\n",
      "Epoch 71/100\n",
      "7465/7465 [==============================] - 1s 106us/step - loss: 0.2245 - acc: 0.9177 - val_loss: 0.2096 - val_acc: 0.9125\n",
      "Epoch 72/100\n",
      "7465/7465 [==============================] - 1s 107us/step - loss: 0.2233 - acc: 0.9187 - val_loss: 0.2138 - val_acc: 0.9113\n",
      "Epoch 73/100\n",
      "7465/7465 [==============================] - 1s 105us/step - loss: 0.2136 - acc: 0.9211 - val_loss: 0.2259 - val_acc: 0.9066\n",
      "Epoch 74/100\n",
      "7465/7465 [==============================] - 1s 107us/step - loss: 0.2251 - acc: 0.9143 - val_loss: 0.2237 - val_acc: 0.9074\n",
      "Epoch 75/100\n",
      "7465/7465 [==============================] - 1s 105us/step - loss: 0.2226 - acc: 0.9191 - val_loss: 0.2440 - val_acc: 0.8991\n",
      "Epoch 76/100\n",
      "7465/7465 [==============================] - 1s 106us/step - loss: 0.2061 - acc: 0.9232 - val_loss: 0.2336 - val_acc: 0.9042\n",
      "Epoch 77/100\n",
      "7465/7465 [==============================] - 1s 106us/step - loss: 0.2240 - acc: 0.9165 - val_loss: 0.2630 - val_acc: 0.8917\n",
      "Epoch 78/100\n",
      "7465/7465 [==============================] - 1s 106us/step - loss: 0.2183 - acc: 0.9163 - val_loss: 0.2214 - val_acc: 0.9097\n",
      "Epoch 79/100\n",
      "7465/7465 [==============================] - 1s 105us/step - loss: 0.2171 - acc: 0.9171 - val_loss: 0.2355 - val_acc: 0.9031\n",
      "Epoch 80/100\n",
      "7465/7465 [==============================] - 1s 105us/step - loss: 0.2152 - acc: 0.9223 - val_loss: 0.2239 - val_acc: 0.9093\n",
      "Epoch 81/100\n",
      "7465/7465 [==============================] - 1s 106us/step - loss: 0.2193 - acc: 0.9163 - val_loss: 0.2054 - val_acc: 0.9137\n"
     ]
    }
   ],
   "source": [
    "early_stop = EarlyStopping(monitor='loss', patience=5)\n",
    "\n",
    "history = model.fit(\n",
    "        X_train_vectors, y_train_words, \n",
    "        validation_data=(X_val_vectors,y_val_words), \n",
    "        batch_size=32, \n",
    "        epochs=100,\n",
    "        class_weight=class_weights,\n",
    "        callbacks=[early_stop]\n",
    "        )"
   ]
  },
  {
   "cell_type": "code",
   "execution_count": 14,
   "id": "a54956cd",
   "metadata": {},
   "outputs": [
    {
     "data": {
      "image/png": "[encoded data removed]",
      "text/plain": [
       "<Figure size 432x288 with 1 Axes>"
      ]
     },
     "metadata": {
      "needs_background": "light"
     },
     "output_type": "display_data"
    },
    {
     "data": {
      "image/png": "[encoded data removed]",
      "text/plain": [
       "<Figure size 432x288 with 1 Axes>"
      ]
     },
     "metadata": {
      "needs_background": "light"
     },
     "output_type": "display_data"
    }
   ],
   "source": [
    "plt.figure()\n",
    "plt.plot(history.history['acc'])\n",
    "plt.plot(history.history['val_acc'])\n",
    "plt.title('model accuracy')\n",
    "plt.ylabel('accuracy')\n",
    "plt.xlabel('epoch')\n",
    "plt.legend(['train', 'val'], loc='upper left')\n",
    "plt.show()\n",
    "\n",
    "plt.figure()\n",
    "plt.plot(history.history['loss'])\n",
    "plt.plot(history.history['val_loss'])\n",
    "plt.title('model loss')\n",
    "plt.ylabel('loss')\n",
    "plt.xlabel('epoch')\n",
    "plt.legend(['train', 'val'], loc='upper left')\n",
    "plt.show()"
   ]
  },
  {
   "cell_type": "markdown",
   "id": "178e0f06",
   "metadata": {},
   "source": [
    "## Evaluate"
   ]
  },
  {
   "cell_type": "code",
   "execution_count": 15,
   "id": "1ed95288",
   "metadata": {},
   "outputs": [
    {
     "name": "stdout",
     "output_type": "stream",
     "text": [
      "              precision    recall  f1-score   support\n",
      "\n",
      "           0       0.99      0.91      0.95      2355\n",
      "           1       0.51      0.95      0.66       224\n",
      "\n",
      "    accuracy                           0.92      2579\n",
      "   macro avg       0.75      0.93      0.81      2579\n",
      "weighted avg       0.95      0.92      0.93      2579\n",
      "\n"
     ]
    }
   ],
   "source": [
    "from sklearn.metrics import classification_report\n",
    "\n",
    "y_pred = model.predict(X_test_vectors).squeeze()\n",
    "y_pred[y_pred >= 0.5] = 1\n",
    "y_pred[y_pred < 0.5] = 0\n",
    "\n",
    "print(classification_report(y_test_words,y_pred))"
   ]
  },
  {
   "cell_type": "markdown",
   "id": "af2db80d",
   "metadata": {},
   "source": [
    "# Inference"
   ]
  },
  {
   "cell_type": "code",
   "execution_count": null,
   "id": "89796803",
   "metadata": {},
   "outputs": [],
   "source": []
  },
  {
   "cell_type": "code",
   "execution_count": 16,
   "id": "4eacd4f9",
   "metadata": {
    "scrolled": true
   },
   "outputs": [
    {
     "data": {
      "text/plain": [
       "('nutmeg .', (300,))"
      ]
     },
     "execution_count": 16,
     "metadata": {},
     "output_type": "execute_result"
    }
   ],
   "source": [
    "def recipe_to_target_words(recipe):\n",
    "    \"\"\"\n",
    "        Create word list from recipe. Include 2-gram and 3-grams.\n",
    "    \"\"\"\n",
    "    words = nltk.word_tokenize(recipe)\n",
    "    #Create vector for each word\n",
    "    word_vectors = np.array([ft_model.get_word_vector(word) for word in words])\n",
    "\n",
    "    targets = []\n",
    "    for i in range(len(word_vectors)):    \n",
    "        \n",
    "        # Calculate mean vector for n-grams.\n",
    "        n_gram_1 = word_vectors[i:i+1].mean(axis=0)\n",
    "        n_gram_2 = word_vectors[i:i+2].mean(axis=0)    \n",
    "        n_gram_3 = word_vectors[i:i+3].mean(axis=0)\n",
    "    \n",
    "        targets.append((words[i], n_gram_1))\n",
    "        targets.append((' '.join(words[i:i+2]), n_gram_2))\n",
    "        targets.append((' '.join(words[i:i+3]), n_gram_3))\n",
    "    \n",
    "    return targets\n",
    "\n",
    "word,vec = recipe_to_target_words(X_test.iloc[0].Directions)[61]\n",
    "word, vec.shape"
   ]
  },
  {
   "cell_type": "code",
   "execution_count": 17,
   "id": "8fb9f96d",
   "metadata": {},
   "outputs": [
    {
     "data": {
      "text/plain": [
       "['apricot',\n",
       " 'apricot preserves',\n",
       " 'fruit',\n",
       " 'fruit cocktail',\n",
       " 'fruit cocktail and',\n",
       " 'cocktail',\n",
       " 'Dijon mustard',\n",
       " 'mustard',\n",
       " 'nutmeg']"
      ]
     },
     "execution_count": 17,
     "metadata": {},
     "output_type": "execute_result"
    }
   ],
   "source": [
    "def predict(text):\n",
    "    \"\"\"\n",
    "        Prediction function\n",
    "    \"\"\"\n",
    "    # Get target word list\n",
    "    targets = recipe_to_target_words(text)\n",
    "    \n",
    "    # Seperate words and vectors\n",
    "    words = [t[0] for t in targets]\n",
    "    vecs = np.array([np.expand_dims(t[1],axis=1) for t in targets])\n",
    "    \n",
    "    # Create prediciton for each word or n-gram\n",
    "    y_pred = model.predict(vecs) \n",
    "    y_pred = np.squeeze(y_pred > 0.5).astype(int)\n",
    "    \n",
    "    result = []\n",
    "    for w,p in zip(words,y_pred):\n",
    "        # if prediction is 1 --> Ingredient. add to list\n",
    "        if p==1:\n",
    "            result.append(w)\n",
    "            \n",
    "    return result\n",
    "    \n",
    "predict(X_test.iloc[0].Directions)"
   ]
  },
  {
   "cell_type": "code",
   "execution_count": 18,
   "id": "f1ee7a4c",
   "metadata": {},
   "outputs": [],
   "source": [
    "from nltk.corpus import wordnet"
   ]
  },
  {
   "cell_type": "code",
   "execution_count": 19,
   "id": "d75dca14",
   "metadata": {},
   "outputs": [
    {
     "name": "stdout",
     "output_type": "stream",
     "text": [
      "['Combine cake mix', 'water', 'pudding mix', 'oil', 'pudding', 'Combine cake', 'flour', 'sugar', 'with lemon frosting', 'with lemon', 'lemon', 'Let cake', 'frosting', 'cake mix', 'cake', 'lemon frosting', 'frost with lemon', 'eggs', 'cake cool']\n",
      "lemon,lemon,egg,water,vegetable oil\n"
     ]
    }
   ],
   "source": [
    "def post_filter(items):    \n",
    "    \"\"\"\n",
    "        Post filtering function of n-gram results. to have clear text\n",
    "    \"\"\"\n",
    "    \n",
    "    # Seperate multiple words by comma & \"and\" word\n",
    "    filtered = []\n",
    "    for f in items:\n",
    "        if ',' in f:\n",
    "            filtered += f.split(',')\n",
    "        if 'and' in f:\n",
    "            filtered += f.split('and')\n",
    "        if 'and' not in f and ',' not in f:\n",
    "            filtered.append(f)\n",
    "                        \n",
    "    filtered = list(set(filtered))        \n",
    "    filtered = [f.strip() for f in filtered if len(f) > 0]\n",
    "    \n",
    "    # SINGULARIZE plural words\n",
    "    filtered = [f if wordnet.morphy(f) is None else wordnet.morphy(f) for f in filtered]    \n",
    "    \n",
    "    # filter duplicate words by n-grams\n",
    "    filtered = sorted(filtered, key=lambda x: len(x.split()), reverse=True)    \n",
    "\n",
    "    \n",
    "    # remove single word of \"cup\"\n",
    "    ignore_items = [\"cup\"]\n",
    "    filtered = list(set(filtered) - set(ignore_items))   \n",
    "    \n",
    "    return filtered\n",
    "\n",
    "print(post_filter(predict(X_test.iloc[7].Directions)))\n",
    "print(X_test.iloc[7].Ingredients)"
   ]
  },
  {
   "cell_type": "code",
   "execution_count": 20,
   "id": "af367d41",
   "metadata": {},
   "outputs": [
    {
     "data": {
      "text/plain": [
       "['combine flour',\n",
       " 'baking soda',\n",
       " 'soda',\n",
       " 'oat',\n",
       " 'nutmeg',\n",
       " 'oil',\n",
       " 'salt',\n",
       " 'milk',\n",
       " 'eggs',\n",
       " 'flour',\n",
       " 'baking',\n",
       " 'raisin',\n",
       " 'sugar',\n",
       " 'cinnamon',\n",
       " 'nut',\n",
       " 'baking powder',\n",
       " 'brown sugar',\n",
       " 'apple']"
      ]
     },
     "execution_count": 20,
     "metadata": {},
     "output_type": "execute_result"
    }
   ],
   "source": [
    "post_filter(predict('In a large bowl, combine flour, baking powder, baking soda, salt, cinnamon, nutmeg, brown sugar, and  oats. Add apple, nuts, raisins, eggs, milk, and oil.  Mix until dry ingredients are moistened.**Bake for 55 to 60 minutes, or until done.  Cool on wire rack.'))"
   ]
  },
  {
   "cell_type": "markdown",
   "id": "4db01e8d",
   "metadata": {},
   "source": [
    "# Calculate Positions from Text"
   ]
  },
  {
   "cell_type": "code",
   "execution_count": 21,
   "id": "03c23a00",
   "metadata": {},
   "outputs": [],
   "source": [
    "def create_result(text):\n",
    "    ingredients = post_filter(predict(text))\n",
    "    \n",
    "    matches = []\n",
    "    for item in ingredients:\n",
    "        matches += [[item, match.start(),match.end()] for match in re.finditer(item, text)]\n",
    "    \n",
    "    return matches"
   ]
  },
  {
   "cell_type": "code",
   "execution_count": 22,
   "id": "dbbee10d",
   "metadata": {},
   "outputs": [
    {
     "data": {
      "text/plain": [
       "[['combine flour', 17, 30],\n",
       " ['baking soda', 47, 58],\n",
       " ['soda', 54, 58],\n",
       " ['oat', 102, 105],\n",
       " ['nutmeg', 76, 82],\n",
       " ['oil', 150, 153],\n",
       " ['salt', 60, 64],\n",
       " ['milk', 140, 144],\n",
       " ['eggs', 134, 138],\n",
       " ['flour', 25, 30],\n",
       " ['baking', 32, 38],\n",
       " ['baking', 47, 53],\n",
       " ['raisin', 125, 131],\n",
       " ['sugar', 90, 95],\n",
       " ['cinnamon', 66, 74],\n",
       " ['nut', 76, 79],\n",
       " ['nut', 119, 122],\n",
       " ['nut', 218, 221],\n",
       " ['baking powder', 32, 45],\n",
       " ['brown sugar', 84, 95],\n",
       " ['apple', 112, 117]]"
      ]
     },
     "execution_count": 22,
     "metadata": {},
     "output_type": "execute_result"
    }
   ],
   "source": [
    "create_result('In a large bowl, combine flour, baking powder, baking soda, salt, cinnamon, nutmeg, brown sugar, and  oats. Add apple, nuts, raisins, eggs, milk, and oil.  Mix until dry ingredients are moistened.**Bake for 55 to 60 minutes, or until done.  Cool on wire rack.')\n",
    "\n"
   ]
  },
  {
   "cell_type": "code",
   "execution_count": null,
   "id": "1a4b33e8",
   "metadata": {},
   "outputs": [],
   "source": []
  },
  {
   "cell_type": "code",
   "execution_count": null,
   "id": "990a98ba",
   "metadata": {},
   "outputs": [],
   "source": []
  }
 ],
 "metadata": {
  "kernelspec": {
   "display_name": "Python 3",
   "language": "python",
   "name": "python3"
  },
  "language_info": {
   "codemirror_mode": {
    "name": "ipython",
    "version": 3
   },
   "file_extension": ".py",
   "mimetype": "text/x-python",
   "name": "python",
   "nbconvert_exporter": "python",
   "pygments_lexer": "ipython3",
   "version": "3.8.8"
  }
 },
 "nbformat": 4,
 "nbformat_minor": 5
}
